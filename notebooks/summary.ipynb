{
 "cells": [
  {
   "cell_type": "code",
   "execution_count": 2,
   "metadata": {},
   "outputs": [],
   "source": [
    "import pandas as pd\n",
    "from datasets import load_metric\n",
    "metric = load_metric(\"seqeval\")"
   ]
  },
  {
   "cell_type": "code",
   "execution_count": 3,
   "metadata": {},
   "outputs": [],
   "source": [
    "table = pd.read_csv(\"./eval-bert-base-cased-output.csv\", sep=\" \", skip_blank_lines=False)\n",
    "\n",
    "reference_labels = table[\"ground_truth\"]\n",
    "output_labels_no_transformer = table[\"predicted_no_transformer\"]\n",
    "output_labels_with_transformer = table[\"predicted_with_transformer\"]"
   ]
  },
  {
   "cell_type": "code",
   "execution_count": 4,
   "metadata": {},
   "outputs": [],
   "source": [
    "def get_iob_metrics(ground_truth, predictions):\n",
    "    split_ground_truth = []\n",
    "    split_predictions = []\n",
    "\n",
    "    current_sentence_ground_truth = []\n",
    "    current_sentence_predictions = []\n",
    "\n",
    "    for ground_truth, prediction in zip(ground_truth, predictions):\n",
    "        if str(ground_truth) == \"nan\":\n",
    "            split_ground_truth.append(current_sentence_ground_truth)\n",
    "            current_sentence_ground_truth = []\n",
    "\n",
    "            split_predictions.append(current_sentence_predictions)\n",
    "            current_sentence_predictions = []\n",
    "\n",
    "        else:\n",
    "            current_sentence_ground_truth.append(ground_truth)\n",
    "            current_sentence_predictions.append(prediction)\n",
    "\n",
    "    return metric.compute(references=split_ground_truth, predictions=split_predictions)"
   ]
  },
  {
   "cell_type": "code",
   "execution_count": 5,
   "metadata": {},
   "outputs": [
    {
     "name": "stdout",
     "output_type": "stream",
     "text": [
      "with-transformer & 0.533477 & 0.413178 & 0.465684 & 0.887650 & 0.592362 & 0.317549 & 0.398810 & 0.460220 \n"
     ]
    }
   ],
   "source": [
    "metrics = get_iob_metrics(reference_labels.iloc, output_labels_with_transformer.iloc)\n",
    "\n",
    "row = []\n",
    "for key in [\"overall_precision\", \"overall_recall\", \"overall_f1\", \"overall_accuracy\"]:\n",
    "    row.append(metrics[key])\n",
    "\n",
    "for key in [\"LOC\", \"MISC\", \"ORG\", \"PER\"]:\n",
    "    row.append(metrics[key][\"f1\"])\n",
    "\n",
    "print(\"with-transformer & {:2f} & {:2f} & {:2f} & {:2f} & {:2f} & {:2f} & {:2f} & {:2f} \".format(*row))"
   ]
  },
  {
   "cell_type": "code",
   "execution_count": 6,
   "metadata": {},
   "outputs": [
    {
     "data": {
      "text/plain": [
       "dict_keys(['LOC', 'MISC', 'ORG', 'PER', 'overall_precision', 'overall_recall', 'overall_f1', 'overall_accuracy'])"
      ]
     },
     "execution_count": 6,
     "metadata": {},
     "output_type": "execute_result"
    }
   ],
   "source": [
    "metrics.keys()"
   ]
  },
  {
   "cell_type": "code",
   "execution_count": 7,
   "metadata": {},
   "outputs": [
    {
     "name": "stdout",
     "output_type": "stream",
     "text": [
      "no-transformer & 0.766706 & 0.681369 & 0.557279 & 0.602362 \n"
     ]
    }
   ],
   "source": [
    "metrics = get_iob_metrics(reference_labels.iloc, output_labels_no_transformer.iloc)\n",
    "\n",
    "row = []\n",
    "for key in [\"LOC\", \"MISC\", \"ORG\", \"PER\"]:\n",
    "    row.append(metrics[key][\"f1\"])\n",
    "\n",
    "print(\"no-transformer & {:2f} & {:2f} & {:2f} & {:2f} \".format(*row))"
   ]
  },
  {
   "cell_type": "code",
   "execution_count": 11,
   "metadata": {},
   "outputs": [],
   "source": [
    "from collections import Counter"
   ]
  },
  {
   "cell_type": "code",
   "execution_count": 33,
   "metadata": {},
   "outputs": [
    {
     "data": {
      "text/plain": [
       "[(('-', 'O'), 8),\n",
       " (('##o', 'I-PER'), 6),\n",
       " (('May', 'O'), 5),\n",
       " (('##n', 'I-PER'), 4),\n",
       " (('##er', 'O'), 4),\n",
       " (('##lli', 'I-PER'), 4),\n",
       " (('##P', 'O'), 3),\n",
       " (('June', 'O'), 3),\n",
       " (('##hare', 'I-PER'), 3),\n",
       " (('##s', 'O'), 3),\n",
       " (('##ec', 'I-PER'), 3),\n",
       " (('U', 'B-LOC'), 3)]"
      ]
     },
     "execution_count": 33,
     "metadata": {},
     "output_type": "execute_result"
    }
   ],
   "source": [
    "pairs = []\n",
    "\n",
    "for index, entry in table[(reference_labels != output_labels_no_transformer) & (reference_labels == output_labels_with_transformer)].iterrows():\n",
    "    pairs.append(\n",
    "        (entry[\"token\"], \n",
    "        entry[\"ground_truth\"],\n",
    "        )\n",
    "    )\n",
    "\n",
    "counter = Counter(pairs)\n",
    "counter.most_common(12)"
   ]
  },
  {
   "cell_type": "code",
   "execution_count": 36,
   "metadata": {},
   "outputs": [
    {
     "data": {
      "text/plain": [
       "[(('Iraqi', 'B-MISC'), 22),\n",
       " (('.', 'I-ORG'), 13),\n",
       " (('European', 'B-MISC'), 13),\n",
       " (('W', 'B-MISC'), 13),\n",
       " (('Department', 'I-ORG'), 12),\n",
       " (('Israeli', 'B-MISC'), 12),\n",
       " (('##OR', 'I-MISC'), 12),\n",
       " (('Street', 'I-LOC'), 10),\n",
       " (('Chinese', 'B-MISC'), 10),\n",
       " (('##LD', 'I-MISC'), 10),\n",
       " (('Moscow', 'B-LOC'), 9),\n",
       " (('-', 'I-MISC'), 9)]"
      ]
     },
     "execution_count": 36,
     "metadata": {},
     "output_type": "execute_result"
    }
   ],
   "source": [
    "pairs = []\n",
    "\n",
    "for index, entry in table[(reference_labels == output_labels_no_transformer) & (reference_labels != output_labels_with_transformer)].iterrows():\n",
    "    pairs.append(\n",
    "        (entry[\"token\"], \n",
    "        entry[\"ground_truth\"],\n",
    "        )\n",
    "    )\n",
    "\n",
    "counter = Counter(pairs)\n",
    "counter.most_common(12)"
   ]
  }
 ],
 "metadata": {
  "interpreter": {
   "hash": "d4d1e4263499bec80672ea0156c357c1ee493ec2b1c70f0acce89fc37c4a6abe"
  },
  "kernelspec": {
   "display_name": "Python 3.7.10 64-bit ('base': conda)",
   "language": "python",
   "name": "python3"
  },
  "language_info": {
   "codemirror_mode": {
    "name": "ipython",
    "version": 3
   },
   "file_extension": ".py",
   "mimetype": "text/x-python",
   "name": "python",
   "nbconvert_exporter": "python",
   "pygments_lexer": "ipython3",
   "version": "3.7.10"
  },
  "orig_nbformat": 4
 },
 "nbformat": 4,
 "nbformat_minor": 2
}
