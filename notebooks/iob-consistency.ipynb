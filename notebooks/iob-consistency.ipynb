{
 "cells": [
  {
   "cell_type": "code",
   "execution_count": 1,
   "metadata": {},
   "outputs": [],
   "source": [
    "import pandas as pd"
   ]
  },
  {
   "cell_type": "code",
   "execution_count": 10,
   "metadata": {},
   "outputs": [
    {
     "name": "stdout",
     "output_type": "stream",
     "text": [
      "Index(['token', 'ground_truth', 'predicted_no_transformer',\n",
      "       'predicted_with_transformer'],\n",
      "      dtype='object')\n"
     ]
    }
   ],
   "source": [
    "table = pd.read_csv(\"./eval-bert-base-cased-output.csv\", sep=\" \")\n",
    "print(table.keys())\n",
    "reference_labels = table[\"ground_truth\"]\n",
    "output_labels_no_transformer = table[\"predicted_no_transformer\"]\n",
    "output_labels_with_transformer = table[\"predicted_with_transformer\"]"
   ]
  },
  {
   "cell_type": "code",
   "execution_count": 22,
   "metadata": {},
   "outputs": [
    {
     "name": "stdout",
     "output_type": "stream",
     "text": [
      "Ground Truth:  0.00212% inconsistence tagging.\n"
     ]
    }
   ],
   "source": [
    "current_entity = None\n",
    "num_mismatches = 0\n",
    "\n",
    "for entry in reference_labels:\n",
    "    if len(entry) >= 3:\n",
    "        position = entry[0]\n",
    "        entity = entry[2:]\n",
    "        \n",
    "        if position == \"B\":\n",
    "            current_entity = entity\n",
    "\n",
    "        elif position == \"I\":\n",
    "            if current_entity != entity:\n",
    "                num_mismatches += 1 \n",
    "                current_entity = entity\n",
    "\n",
    "print(f\"Ground Truth: {num_mismatches / len(table) * 100: .5f}% inconsistence tagging.\",)"
   ]
  },
  {
   "cell_type": "code",
   "execution_count": 23,
   "metadata": {},
   "outputs": [
    {
     "name": "stdout",
     "output_type": "stream",
     "text": [
      "No Transformer (baseline):  1.00865% inconsistence tagging.\n"
     ]
    }
   ],
   "source": [
    "current_entity = None\n",
    "num_mismatches = 0\n",
    "\n",
    "for entry in output_labels_no_transformer:\n",
    "    if len(entry) >= 3:\n",
    "        position = entry[0]\n",
    "        entity = entry[2:]\n",
    "        \n",
    "        if position == \"B\":\n",
    "            current_entity = entity\n",
    "\n",
    "        elif position == \"I\":\n",
    "            if current_entity != entity:\n",
    "                num_mismatches += 1 \n",
    "                current_entity = entity\n",
    "\n",
    "print(f\"No Transformer (baseline): {num_mismatches / len(table) * 100: .5f}% inconsistence tagging.\",)"
   ]
  },
  {
   "cell_type": "code",
   "execution_count": 24,
   "metadata": {},
   "outputs": [
    {
     "name": "stdout",
     "output_type": "stream",
     "text": [
      "With Transformer:  0.95779% inconsistence tagging.\n"
     ]
    }
   ],
   "source": [
    "current_entity = None\n",
    "num_mismatches = 0\n",
    "\n",
    "for entry in output_labels_with_transformer:\n",
    "    if len(entry) >= 3:\n",
    "        position = entry[0]\n",
    "        entity = entry[2:]\n",
    "        \n",
    "        if position == \"B\":\n",
    "            current_entity = entity\n",
    "\n",
    "        elif position == \"I\":\n",
    "            if current_entity != entity:\n",
    "                num_mismatches += 1 \n",
    "                current_entity = entity\n",
    "\n",
    "print(f\"With Transformer: {num_mismatches / len(table) * 100: .5f}% inconsistence tagging.\",)"
   ]
  }
 ],
 "metadata": {
  "interpreter": {
   "hash": "d4d1e4263499bec80672ea0156c357c1ee493ec2b1c70f0acce89fc37c4a6abe"
  },
  "kernelspec": {
   "display_name": "Python 3.7.10 64-bit ('base': conda)",
   "language": "python",
   "name": "python3"
  },
  "language_info": {
   "codemirror_mode": {
    "name": "ipython",
    "version": 3
   },
   "file_extension": ".py",
   "mimetype": "text/x-python",
   "name": "python",
   "nbconvert_exporter": "python",
   "pygments_lexer": "ipython3",
   "version": "3.7.10"
  },
  "orig_nbformat": 4
 },
 "nbformat": 4,
 "nbformat_minor": 2
}
