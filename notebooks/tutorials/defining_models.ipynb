{
 "cells": [
  {
   "cell_type": "code",
   "execution_count": 1,
   "metadata": {},
   "outputs": [],
   "source": [
    "import torch\n",
    "from torch import nn\n",
    "\n",
    "from torch.optim import AdamW\n",
    "\n",
    "from torchcrf import CRF\n",
    "\n",
    "from transformers import BertModel, BertConfig"
   ]
  },
  {
   "cell_type": "code",
   "execution_count": 22,
   "metadata": {},
   "outputs": [],
   "source": [
    "bert_config = BertConfig.from_pretrained(\"bert-base-cased\", num_labels=9)\n",
    "model = BertModel(bert_config)\n",
    "\n",
    "rnn_dim = 128"
   ]
  },
  {
   "cell_type": "code",
   "execution_count": 2,
   "metadata": {},
   "outputs": [
    {
     "ename": "NameError",
     "evalue": "name 'bert_config' is not defined",
     "output_type": "error",
     "traceback": [
      "\u001b[0;31m---------------------------------------------------------------------------\u001b[0m",
      "\u001b[0;31mNameError\u001b[0m                                 Traceback (most recent call last)",
      "\u001b[0;32m<ipython-input-2-189b7f2332fc>\u001b[0m in \u001b[0;36m<module>\u001b[0;34m\u001b[0m\n\u001b[0;32m----> 1\u001b[0;31m \u001b[0mbilstm\u001b[0m \u001b[0;34m=\u001b[0m \u001b[0mnn\u001b[0m\u001b[0;34m.\u001b[0m\u001b[0mLSTM\u001b[0m\u001b[0;34m(\u001b[0m\u001b[0mbert_config\u001b[0m\u001b[0;34m.\u001b[0m\u001b[0mhidden_size\u001b[0m\u001b[0;34m,\u001b[0m \u001b[0;36m128\u001b[0m\u001b[0;34m,\u001b[0m \u001b[0mnum_layers\u001b[0m\u001b[0;34m=\u001b[0m\u001b[0;36m1\u001b[0m\u001b[0;34m,\u001b[0m \u001b[0mbidirectional\u001b[0m\u001b[0;34m=\u001b[0m\u001b[0;32mTrue\u001b[0m\u001b[0;34m,\u001b[0m \u001b[0mbatch_first\u001b[0m\u001b[0;34m=\u001b[0m\u001b[0;32mTrue\u001b[0m\u001b[0;34m)\u001b[0m\u001b[0;34m\u001b[0m\u001b[0;34m\u001b[0m\u001b[0m\n\u001b[0m\u001b[1;32m      2\u001b[0m \u001b[0;34m\u001b[0m\u001b[0m\n\u001b[1;32m      3\u001b[0m \u001b[0moptimizer\u001b[0m \u001b[0;34m=\u001b[0m \u001b[0mAdamW\u001b[0m\u001b[0;34m(\u001b[0m\u001b[0mmodel\u001b[0m\u001b[0;34m.\u001b[0m\u001b[0mparameters\u001b[0m\u001b[0;34m(\u001b[0m\u001b[0;34m)\u001b[0m\u001b[0;34m,\u001b[0m \u001b[0mlr\u001b[0m\u001b[0;34m=\u001b[0m\u001b[0;36m2e-5\u001b[0m\u001b[0;34m)\u001b[0m\u001b[0;34m\u001b[0m\u001b[0;34m\u001b[0m\u001b[0m\n",
      "\u001b[0;31mNameError\u001b[0m: name 'bert_config' is not defined"
     ]
    }
   ],
   "source": [
    "bilstm = nn.LSTM(bert_config.hidden_size, 128, num_layers=1, bidirectional=True, batch_first=True)\n",
    "\n",
    "optimizer = AdamW(model.parameters(), lr=2e-5)"
   ]
  },
  {
   "cell_type": "code",
   "execution_count": 28,
   "metadata": {},
   "outputs": [],
   "source": [
    "crf = nn.Sequential(\n",
    "            nn.Linear(128 * 2, bert_config.num_labels),\n",
    "            CRF(bert_config.num_labels),\n",
    "        )"
   ]
  },
  {
   "cell_type": "code",
   "execution_count": 29,
   "metadata": {},
   "outputs": [],
   "source": [
    "class CustomModel(nn.Module):\n",
    "    def __init__(self, bert_config, args):\n",
    "        super(CustomModel, self).__init__()\n",
    "        self.bert = BertModel(bert_config)\n",
    "        self.birnn = nn.LSTM(bert_config.hidden_size, args.rnn_dim, num_layers=1, bidirectional=True)\n",
    "        self.linear = nn.Linear(args.rnn_dim * 2),\n",
    "        self.crf = CRF(bert_config.num_labels)\n",
    "\n",
    "        self.dropout = nn.Dropout(0.1)\n",
    "\n",
    "    def forward(self, **batch):\n",
    "        bert_embedding = self.bert(**batch)[0]\n",
    "        bilstm_embedding = self.birnn(bert_embedding)\n",
    "        bilstm_embedding = self.dropout(bilstm_embedding)\n",
    "\n",
    "        low_dimension_embedding = self.linear(bilstm_embedding)\n",
    "        loss = -1 * self.crf(low_dimension_embedding, batch[\"labels\"], attention_mask=batch[\"attention_mask\"])\n",
    "\n",
    "        return loss\n",
    "\n",
    "    def predict(self, **batch):\n",
    "        with torch.no_grad():\n",
    "            bert_embedding = self.bert(**batch)[0]\n",
    "            bilstm_embedding = self.birnn(bert_embedding)\n",
    "            bilstm_embedding = self.dropout(bilstm_embedding)\n",
    "\n",
    "            low_dimension_embedding = self.linear(bilstm_embedding)\n",
    "            predictions = self.crf.decode(low_dimension_embedding, attention_mask=batch[\"attention_mask\"])\n",
    "\n",
    "            return predictions"
   ]
  }
 ],
 "metadata": {
  "interpreter": {
   "hash": "d4d1e4263499bec80672ea0156c357c1ee493ec2b1c70f0acce89fc37c4a6abe"
  },
  "kernelspec": {
   "display_name": "Python 3.7.10 64-bit ('base': conda)",
   "language": "python",
   "name": "python3"
  },
  "language_info": {
   "codemirror_mode": {
    "name": "ipython",
    "version": 3
   },
   "file_extension": ".py",
   "mimetype": "text/x-python",
   "name": "python",
   "nbconvert_exporter": "python",
   "pygments_lexer": "ipython3",
   "version": "3.7.10"
  },
  "orig_nbformat": 4
 },
 "nbformat": 4,
 "nbformat_minor": 2
}
