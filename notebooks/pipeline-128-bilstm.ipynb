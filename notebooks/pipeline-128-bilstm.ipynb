{
 "cells": [
  {
   "cell_type": "markdown",
   "metadata": {},
   "source": [
    "## Data Preprocessing"
   ]
  },
  {
   "cell_type": "code",
   "execution_count": 1,
   "metadata": {},
   "outputs": [],
   "source": [
    "import torch\n",
    "import numpy as np\n",
    "import random\n",
    "\n",
    "seed = 599\n",
    "\n",
    "random.seed(seed)\n",
    "torch.manual_seed(seed)\n",
    "np.random.seed(seed)\n",
    "\n",
    "lstm_num_hidden_dimensions = 128"
   ]
  },
  {
   "cell_type": "code",
   "execution_count": 2,
   "metadata": {},
   "outputs": [
    {
     "name": "stderr",
     "output_type": "stream",
     "text": [
      "Reusing dataset conll2003 (/root/.cache/huggingface/datasets/conll2003/conll2003/1.0.0/40e7cb6bcc374f7c349c83acd1e9352a4f09474eb691f64f364ee62eb65d0ca6)\n"
     ]
    },
    {
     "data": {
      "application/vnd.jupyter.widget-view+json": {
       "model_id": "b40aa760a95a4944880b3c8cfcae90dd",
       "version_major": 2,
       "version_minor": 0
      },
      "text/plain": [
       "  0%|          | 0/3 [00:00<?, ?it/s]"
      ]
     },
     "metadata": {},
     "output_type": "display_data"
    }
   ],
   "source": [
    "from datasets import load_dataset\n",
    "from pandas import DataFrame as df\n",
    "\n",
    "raw_datasets = load_dataset(\"conll2003\")"
   ]
  },
  {
   "cell_type": "code",
   "execution_count": 3,
   "metadata": {},
   "outputs": [
    {
     "data": {
      "text/plain": [
       "DatasetDict({\n",
       "    train: Dataset({\n",
       "        features: ['id', 'tokens', 'pos_tags', 'chunk_tags', 'ner_tags'],\n",
       "        num_rows: 14041\n",
       "    })\n",
       "    validation: Dataset({\n",
       "        features: ['id', 'tokens', 'pos_tags', 'chunk_tags', 'ner_tags'],\n",
       "        num_rows: 3250\n",
       "    })\n",
       "    test: Dataset({\n",
       "        features: ['id', 'tokens', 'pos_tags', 'chunk_tags', 'ner_tags'],\n",
       "        num_rows: 3453\n",
       "    })\n",
       "})"
      ]
     },
     "execution_count": 3,
     "metadata": {},
     "output_type": "execute_result"
    }
   ],
   "source": [
    "raw_datasets"
   ]
  },
  {
   "cell_type": "code",
   "execution_count": 4,
   "metadata": {},
   "outputs": [],
   "source": [
    "example_entry = raw_datasets[\"train\"][4]"
   ]
  },
  {
   "cell_type": "code",
   "execution_count": 5,
   "metadata": {},
   "outputs": [],
   "source": [
    "ner_feature = raw_datasets[\"train\"].features[\"ner_tags\"]\n",
    "feature_names = ner_feature.feature.names"
   ]
  },
  {
   "cell_type": "code",
   "execution_count": 6,
   "metadata": {},
   "outputs": [
    {
     "data": {
      "text/html": [
       "<div>\n",
       "<style scoped>\n",
       "    .dataframe tbody tr th:only-of-type {\n",
       "        vertical-align: middle;\n",
       "    }\n",
       "\n",
       "    .dataframe tbody tr th {\n",
       "        vertical-align: top;\n",
       "    }\n",
       "\n",
       "    .dataframe thead th {\n",
       "        text-align: right;\n",
       "    }\n",
       "</style>\n",
       "<table border=\"1\" class=\"dataframe\">\n",
       "  <thead>\n",
       "    <tr style=\"text-align: right;\">\n",
       "      <th></th>\n",
       "      <th>0</th>\n",
       "      <th>1</th>\n",
       "      <th>2</th>\n",
       "    </tr>\n",
       "  </thead>\n",
       "  <tbody>\n",
       "    <tr>\n",
       "      <th>0</th>\n",
       "      <td>Germany</td>\n",
       "      <td>5</td>\n",
       "      <td>B-LOC</td>\n",
       "    </tr>\n",
       "    <tr>\n",
       "      <th>1</th>\n",
       "      <td>'s</td>\n",
       "      <td>0</td>\n",
       "      <td>O</td>\n",
       "    </tr>\n",
       "    <tr>\n",
       "      <th>2</th>\n",
       "      <td>representative</td>\n",
       "      <td>0</td>\n",
       "      <td>O</td>\n",
       "    </tr>\n",
       "    <tr>\n",
       "      <th>3</th>\n",
       "      <td>to</td>\n",
       "      <td>0</td>\n",
       "      <td>O</td>\n",
       "    </tr>\n",
       "    <tr>\n",
       "      <th>4</th>\n",
       "      <td>the</td>\n",
       "      <td>0</td>\n",
       "      <td>O</td>\n",
       "    </tr>\n",
       "    <tr>\n",
       "      <th>5</th>\n",
       "      <td>European</td>\n",
       "      <td>3</td>\n",
       "      <td>B-ORG</td>\n",
       "    </tr>\n",
       "    <tr>\n",
       "      <th>6</th>\n",
       "      <td>Union</td>\n",
       "      <td>4</td>\n",
       "      <td>I-ORG</td>\n",
       "    </tr>\n",
       "    <tr>\n",
       "      <th>7</th>\n",
       "      <td>'s</td>\n",
       "      <td>0</td>\n",
       "      <td>O</td>\n",
       "    </tr>\n",
       "    <tr>\n",
       "      <th>8</th>\n",
       "      <td>veterinary</td>\n",
       "      <td>0</td>\n",
       "      <td>O</td>\n",
       "    </tr>\n",
       "    <tr>\n",
       "      <th>9</th>\n",
       "      <td>committee</td>\n",
       "      <td>0</td>\n",
       "      <td>O</td>\n",
       "    </tr>\n",
       "    <tr>\n",
       "      <th>10</th>\n",
       "      <td>Werner</td>\n",
       "      <td>1</td>\n",
       "      <td>B-PER</td>\n",
       "    </tr>\n",
       "    <tr>\n",
       "      <th>11</th>\n",
       "      <td>Zwingmann</td>\n",
       "      <td>2</td>\n",
       "      <td>I-PER</td>\n",
       "    </tr>\n",
       "    <tr>\n",
       "      <th>12</th>\n",
       "      <td>said</td>\n",
       "      <td>0</td>\n",
       "      <td>O</td>\n",
       "    </tr>\n",
       "    <tr>\n",
       "      <th>13</th>\n",
       "      <td>on</td>\n",
       "      <td>0</td>\n",
       "      <td>O</td>\n",
       "    </tr>\n",
       "    <tr>\n",
       "      <th>14</th>\n",
       "      <td>Wednesday</td>\n",
       "      <td>0</td>\n",
       "      <td>O</td>\n",
       "    </tr>\n",
       "    <tr>\n",
       "      <th>15</th>\n",
       "      <td>consumers</td>\n",
       "      <td>0</td>\n",
       "      <td>O</td>\n",
       "    </tr>\n",
       "    <tr>\n",
       "      <th>16</th>\n",
       "      <td>should</td>\n",
       "      <td>0</td>\n",
       "      <td>O</td>\n",
       "    </tr>\n",
       "    <tr>\n",
       "      <th>17</th>\n",
       "      <td>buy</td>\n",
       "      <td>0</td>\n",
       "      <td>O</td>\n",
       "    </tr>\n",
       "    <tr>\n",
       "      <th>18</th>\n",
       "      <td>sheepmeat</td>\n",
       "      <td>0</td>\n",
       "      <td>O</td>\n",
       "    </tr>\n",
       "    <tr>\n",
       "      <th>19</th>\n",
       "      <td>from</td>\n",
       "      <td>0</td>\n",
       "      <td>O</td>\n",
       "    </tr>\n",
       "    <tr>\n",
       "      <th>20</th>\n",
       "      <td>countries</td>\n",
       "      <td>0</td>\n",
       "      <td>O</td>\n",
       "    </tr>\n",
       "    <tr>\n",
       "      <th>21</th>\n",
       "      <td>other</td>\n",
       "      <td>0</td>\n",
       "      <td>O</td>\n",
       "    </tr>\n",
       "    <tr>\n",
       "      <th>22</th>\n",
       "      <td>than</td>\n",
       "      <td>0</td>\n",
       "      <td>O</td>\n",
       "    </tr>\n",
       "    <tr>\n",
       "      <th>23</th>\n",
       "      <td>Britain</td>\n",
       "      <td>5</td>\n",
       "      <td>B-LOC</td>\n",
       "    </tr>\n",
       "    <tr>\n",
       "      <th>24</th>\n",
       "      <td>until</td>\n",
       "      <td>0</td>\n",
       "      <td>O</td>\n",
       "    </tr>\n",
       "    <tr>\n",
       "      <th>25</th>\n",
       "      <td>the</td>\n",
       "      <td>0</td>\n",
       "      <td>O</td>\n",
       "    </tr>\n",
       "    <tr>\n",
       "      <th>26</th>\n",
       "      <td>scientific</td>\n",
       "      <td>0</td>\n",
       "      <td>O</td>\n",
       "    </tr>\n",
       "    <tr>\n",
       "      <th>27</th>\n",
       "      <td>advice</td>\n",
       "      <td>0</td>\n",
       "      <td>O</td>\n",
       "    </tr>\n",
       "    <tr>\n",
       "      <th>28</th>\n",
       "      <td>was</td>\n",
       "      <td>0</td>\n",
       "      <td>O</td>\n",
       "    </tr>\n",
       "    <tr>\n",
       "      <th>29</th>\n",
       "      <td>clearer</td>\n",
       "      <td>0</td>\n",
       "      <td>O</td>\n",
       "    </tr>\n",
       "    <tr>\n",
       "      <th>30</th>\n",
       "      <td>.</td>\n",
       "      <td>0</td>\n",
       "      <td>O</td>\n",
       "    </tr>\n",
       "  </tbody>\n",
       "</table>\n",
       "</div>"
      ],
      "text/plain": [
       "                 0  1      2\n",
       "0          Germany  5  B-LOC\n",
       "1               's  0      O\n",
       "2   representative  0      O\n",
       "3               to  0      O\n",
       "4              the  0      O\n",
       "5         European  3  B-ORG\n",
       "6            Union  4  I-ORG\n",
       "7               's  0      O\n",
       "8       veterinary  0      O\n",
       "9        committee  0      O\n",
       "10          Werner  1  B-PER\n",
       "11       Zwingmann  2  I-PER\n",
       "12            said  0      O\n",
       "13              on  0      O\n",
       "14       Wednesday  0      O\n",
       "15       consumers  0      O\n",
       "16          should  0      O\n",
       "17             buy  0      O\n",
       "18       sheepmeat  0      O\n",
       "19            from  0      O\n",
       "20       countries  0      O\n",
       "21           other  0      O\n",
       "22            than  0      O\n",
       "23         Britain  5  B-LOC\n",
       "24           until  0      O\n",
       "25             the  0      O\n",
       "26      scientific  0      O\n",
       "27          advice  0      O\n",
       "28             was  0      O\n",
       "29         clearer  0      O\n",
       "30               .  0      O"
      ]
     },
     "execution_count": 6,
     "metadata": {},
     "output_type": "execute_result"
    }
   ],
   "source": [
    "tokens = example_entry[\"tokens\"]\n",
    "tag_ids = example_entry[\"ner_tags\"]\n",
    "tags = map(lambda tag_id: feature_names[tag_id], tag_ids)\n",
    "\n",
    "df(zip(tokens, tag_ids, tags))"
   ]
  },
  {
   "cell_type": "code",
   "execution_count": 7,
   "metadata": {},
   "outputs": [],
   "source": [
    "from transformers import AutoTokenizer\n",
    "\n",
    "tokenizer = AutoTokenizer.from_pretrained(\"bert-base-cased\")"
   ]
  },
  {
   "cell_type": "code",
   "execution_count": 8,
   "metadata": {},
   "outputs": [
    {
     "data": {
      "text/plain": [
       "True"
      ]
     },
     "execution_count": 8,
     "metadata": {},
     "output_type": "execute_result"
    }
   ],
   "source": [
    "tokenizer.is_fast"
   ]
  },
  {
   "cell_type": "code",
   "execution_count": 9,
   "metadata": {},
   "outputs": [],
   "source": [
    "inputs = tokenizer(tokens, is_split_into_words=True, truncation=True)\n",
    "# inputs = tokenizer(tokens)\n",
    "# df(inputs.tokens())"
   ]
  },
  {
   "cell_type": "code",
   "execution_count": 10,
   "metadata": {},
   "outputs": [],
   "source": [
    "# inputs.word_ids()"
   ]
  },
  {
   "cell_type": "code",
   "execution_count": 11,
   "metadata": {},
   "outputs": [],
   "source": [
    "# df(zip(inputs.tokens(), inputs.word_ids()))"
   ]
  },
  {
   "cell_type": "code",
   "execution_count": 12,
   "metadata": {},
   "outputs": [],
   "source": [
    "from typing import List\n",
    "\n",
    "\n",
    "def align_labels_with_split_tokens(\n",
    "    labels_for_word_id: List[int], word_ids: List[int]\n",
    ") -> List[str]:\n",
    "    \"\"\"\n",
    "    Given the map from id of each original word to the orignal label\n",
    "    and the word_ids list indicating how the tokenizer split each word,\n",
    "    return labels for the tokenized sentence, with word parts\n",
    "    padded as \"inside\".\n",
    "\n",
    "    For example, if LAMB (B-ORG) is split into LA and ##MB,\n",
    "    label LA as B-ORG and ##MB as I-ORG.\n",
    "    \"\"\"\n",
    "    output = []\n",
    "    prev_word = None\n",
    "    for word_id in word_ids:\n",
    "        if word_id is None:\n",
    "            # [CLS] or [SEP]\n",
    "            new_tag_id = -100\n",
    "\n",
    "        else:\n",
    "            original_tag_id = labels_for_word_id[word_id]\n",
    "            if word_id != prev_word:\n",
    "                # New word.\n",
    "                # Use the exact same tag id.\n",
    "                new_tag_id = original_tag_id\n",
    "\n",
    "            else:\n",
    "                # Non-leading part of a word that was split.\n",
    "                # Flip any \"B-\" (odd label id) into \"I-\" (by adding 1.)\n",
    "                if original_tag_id % 2 == 1:\n",
    "                    new_tag_id = original_tag_id + 1\n",
    "                else:\n",
    "                    new_tag_id = original_tag_id\n",
    "\n",
    "        output.append(new_tag_id)\n",
    "\n",
    "        prev_word = word_id\n",
    "\n",
    "    return output"
   ]
  },
  {
   "cell_type": "code",
   "execution_count": 13,
   "metadata": {},
   "outputs": [],
   "source": [
    "new_feature_names = dict(enumerate(feature_names))\n",
    "new_feature_names[-100] = \"SPECIAL\""
   ]
  },
  {
   "cell_type": "code",
   "execution_count": 14,
   "metadata": {},
   "outputs": [
    {
     "data": {
      "text/html": [
       "<div>\n",
       "<style scoped>\n",
       "    .dataframe tbody tr th:only-of-type {\n",
       "        vertical-align: middle;\n",
       "    }\n",
       "\n",
       "    .dataframe tbody tr th {\n",
       "        vertical-align: top;\n",
       "    }\n",
       "\n",
       "    .dataframe thead th {\n",
       "        text-align: right;\n",
       "    }\n",
       "</style>\n",
       "<table border=\"1\" class=\"dataframe\">\n",
       "  <thead>\n",
       "    <tr style=\"text-align: right;\">\n",
       "      <th></th>\n",
       "      <th>0</th>\n",
       "      <th>1</th>\n",
       "      <th>2</th>\n",
       "      <th>3</th>\n",
       "    </tr>\n",
       "  </thead>\n",
       "  <tbody>\n",
       "    <tr>\n",
       "      <th>0</th>\n",
       "      <td>[CLS]</td>\n",
       "      <td>NaN</td>\n",
       "      <td>-100</td>\n",
       "      <td>SPECIAL</td>\n",
       "    </tr>\n",
       "    <tr>\n",
       "      <th>1</th>\n",
       "      <td>Germany</td>\n",
       "      <td>0.0</td>\n",
       "      <td>5</td>\n",
       "      <td>B-LOC</td>\n",
       "    </tr>\n",
       "    <tr>\n",
       "      <th>2</th>\n",
       "      <td>'</td>\n",
       "      <td>1.0</td>\n",
       "      <td>0</td>\n",
       "      <td>O</td>\n",
       "    </tr>\n",
       "    <tr>\n",
       "      <th>3</th>\n",
       "      <td>s</td>\n",
       "      <td>1.0</td>\n",
       "      <td>0</td>\n",
       "      <td>O</td>\n",
       "    </tr>\n",
       "    <tr>\n",
       "      <th>4</th>\n",
       "      <td>representative</td>\n",
       "      <td>2.0</td>\n",
       "      <td>0</td>\n",
       "      <td>O</td>\n",
       "    </tr>\n",
       "    <tr>\n",
       "      <th>5</th>\n",
       "      <td>to</td>\n",
       "      <td>3.0</td>\n",
       "      <td>0</td>\n",
       "      <td>O</td>\n",
       "    </tr>\n",
       "    <tr>\n",
       "      <th>6</th>\n",
       "      <td>the</td>\n",
       "      <td>4.0</td>\n",
       "      <td>0</td>\n",
       "      <td>O</td>\n",
       "    </tr>\n",
       "    <tr>\n",
       "      <th>7</th>\n",
       "      <td>European</td>\n",
       "      <td>5.0</td>\n",
       "      <td>3</td>\n",
       "      <td>B-ORG</td>\n",
       "    </tr>\n",
       "    <tr>\n",
       "      <th>8</th>\n",
       "      <td>Union</td>\n",
       "      <td>6.0</td>\n",
       "      <td>4</td>\n",
       "      <td>I-ORG</td>\n",
       "    </tr>\n",
       "    <tr>\n",
       "      <th>9</th>\n",
       "      <td>'</td>\n",
       "      <td>7.0</td>\n",
       "      <td>0</td>\n",
       "      <td>O</td>\n",
       "    </tr>\n",
       "    <tr>\n",
       "      <th>10</th>\n",
       "      <td>s</td>\n",
       "      <td>7.0</td>\n",
       "      <td>0</td>\n",
       "      <td>O</td>\n",
       "    </tr>\n",
       "    <tr>\n",
       "      <th>11</th>\n",
       "      <td>veterinary</td>\n",
       "      <td>8.0</td>\n",
       "      <td>0</td>\n",
       "      <td>O</td>\n",
       "    </tr>\n",
       "    <tr>\n",
       "      <th>12</th>\n",
       "      <td>committee</td>\n",
       "      <td>9.0</td>\n",
       "      <td>0</td>\n",
       "      <td>O</td>\n",
       "    </tr>\n",
       "    <tr>\n",
       "      <th>13</th>\n",
       "      <td>Werner</td>\n",
       "      <td>10.0</td>\n",
       "      <td>1</td>\n",
       "      <td>B-PER</td>\n",
       "    </tr>\n",
       "    <tr>\n",
       "      <th>14</th>\n",
       "      <td>Z</td>\n",
       "      <td>11.0</td>\n",
       "      <td>2</td>\n",
       "      <td>I-PER</td>\n",
       "    </tr>\n",
       "    <tr>\n",
       "      <th>15</th>\n",
       "      <td>##wing</td>\n",
       "      <td>11.0</td>\n",
       "      <td>2</td>\n",
       "      <td>I-PER</td>\n",
       "    </tr>\n",
       "    <tr>\n",
       "      <th>16</th>\n",
       "      <td>##mann</td>\n",
       "      <td>11.0</td>\n",
       "      <td>2</td>\n",
       "      <td>I-PER</td>\n",
       "    </tr>\n",
       "    <tr>\n",
       "      <th>17</th>\n",
       "      <td>said</td>\n",
       "      <td>12.0</td>\n",
       "      <td>0</td>\n",
       "      <td>O</td>\n",
       "    </tr>\n",
       "    <tr>\n",
       "      <th>18</th>\n",
       "      <td>on</td>\n",
       "      <td>13.0</td>\n",
       "      <td>0</td>\n",
       "      <td>O</td>\n",
       "    </tr>\n",
       "    <tr>\n",
       "      <th>19</th>\n",
       "      <td>Wednesday</td>\n",
       "      <td>14.0</td>\n",
       "      <td>0</td>\n",
       "      <td>O</td>\n",
       "    </tr>\n",
       "    <tr>\n",
       "      <th>20</th>\n",
       "      <td>consumers</td>\n",
       "      <td>15.0</td>\n",
       "      <td>0</td>\n",
       "      <td>O</td>\n",
       "    </tr>\n",
       "    <tr>\n",
       "      <th>21</th>\n",
       "      <td>should</td>\n",
       "      <td>16.0</td>\n",
       "      <td>0</td>\n",
       "      <td>O</td>\n",
       "    </tr>\n",
       "    <tr>\n",
       "      <th>22</th>\n",
       "      <td>buy</td>\n",
       "      <td>17.0</td>\n",
       "      <td>0</td>\n",
       "      <td>O</td>\n",
       "    </tr>\n",
       "    <tr>\n",
       "      <th>23</th>\n",
       "      <td>sheep</td>\n",
       "      <td>18.0</td>\n",
       "      <td>0</td>\n",
       "      <td>O</td>\n",
       "    </tr>\n",
       "    <tr>\n",
       "      <th>24</th>\n",
       "      <td>##me</td>\n",
       "      <td>18.0</td>\n",
       "      <td>0</td>\n",
       "      <td>O</td>\n",
       "    </tr>\n",
       "    <tr>\n",
       "      <th>25</th>\n",
       "      <td>##at</td>\n",
       "      <td>18.0</td>\n",
       "      <td>0</td>\n",
       "      <td>O</td>\n",
       "    </tr>\n",
       "    <tr>\n",
       "      <th>26</th>\n",
       "      <td>from</td>\n",
       "      <td>19.0</td>\n",
       "      <td>0</td>\n",
       "      <td>O</td>\n",
       "    </tr>\n",
       "    <tr>\n",
       "      <th>27</th>\n",
       "      <td>countries</td>\n",
       "      <td>20.0</td>\n",
       "      <td>0</td>\n",
       "      <td>O</td>\n",
       "    </tr>\n",
       "    <tr>\n",
       "      <th>28</th>\n",
       "      <td>other</td>\n",
       "      <td>21.0</td>\n",
       "      <td>0</td>\n",
       "      <td>O</td>\n",
       "    </tr>\n",
       "    <tr>\n",
       "      <th>29</th>\n",
       "      <td>than</td>\n",
       "      <td>22.0</td>\n",
       "      <td>0</td>\n",
       "      <td>O</td>\n",
       "    </tr>\n",
       "    <tr>\n",
       "      <th>30</th>\n",
       "      <td>Britain</td>\n",
       "      <td>23.0</td>\n",
       "      <td>5</td>\n",
       "      <td>B-LOC</td>\n",
       "    </tr>\n",
       "    <tr>\n",
       "      <th>31</th>\n",
       "      <td>until</td>\n",
       "      <td>24.0</td>\n",
       "      <td>0</td>\n",
       "      <td>O</td>\n",
       "    </tr>\n",
       "    <tr>\n",
       "      <th>32</th>\n",
       "      <td>the</td>\n",
       "      <td>25.0</td>\n",
       "      <td>0</td>\n",
       "      <td>O</td>\n",
       "    </tr>\n",
       "    <tr>\n",
       "      <th>33</th>\n",
       "      <td>scientific</td>\n",
       "      <td>26.0</td>\n",
       "      <td>0</td>\n",
       "      <td>O</td>\n",
       "    </tr>\n",
       "    <tr>\n",
       "      <th>34</th>\n",
       "      <td>advice</td>\n",
       "      <td>27.0</td>\n",
       "      <td>0</td>\n",
       "      <td>O</td>\n",
       "    </tr>\n",
       "    <tr>\n",
       "      <th>35</th>\n",
       "      <td>was</td>\n",
       "      <td>28.0</td>\n",
       "      <td>0</td>\n",
       "      <td>O</td>\n",
       "    </tr>\n",
       "    <tr>\n",
       "      <th>36</th>\n",
       "      <td>clearer</td>\n",
       "      <td>29.0</td>\n",
       "      <td>0</td>\n",
       "      <td>O</td>\n",
       "    </tr>\n",
       "    <tr>\n",
       "      <th>37</th>\n",
       "      <td>.</td>\n",
       "      <td>30.0</td>\n",
       "      <td>0</td>\n",
       "      <td>O</td>\n",
       "    </tr>\n",
       "    <tr>\n",
       "      <th>38</th>\n",
       "      <td>[SEP]</td>\n",
       "      <td>NaN</td>\n",
       "      <td>-100</td>\n",
       "      <td>SPECIAL</td>\n",
       "    </tr>\n",
       "  </tbody>\n",
       "</table>\n",
       "</div>"
      ],
      "text/plain": [
       "                 0     1    2        3\n",
       "0            [CLS]   NaN -100  SPECIAL\n",
       "1          Germany   0.0    5    B-LOC\n",
       "2                '   1.0    0        O\n",
       "3                s   1.0    0        O\n",
       "4   representative   2.0    0        O\n",
       "5               to   3.0    0        O\n",
       "6              the   4.0    0        O\n",
       "7         European   5.0    3    B-ORG\n",
       "8            Union   6.0    4    I-ORG\n",
       "9                '   7.0    0        O\n",
       "10               s   7.0    0        O\n",
       "11      veterinary   8.0    0        O\n",
       "12       committee   9.0    0        O\n",
       "13          Werner  10.0    1    B-PER\n",
       "14               Z  11.0    2    I-PER\n",
       "15          ##wing  11.0    2    I-PER\n",
       "16          ##mann  11.0    2    I-PER\n",
       "17            said  12.0    0        O\n",
       "18              on  13.0    0        O\n",
       "19       Wednesday  14.0    0        O\n",
       "20       consumers  15.0    0        O\n",
       "21          should  16.0    0        O\n",
       "22             buy  17.0    0        O\n",
       "23           sheep  18.0    0        O\n",
       "24            ##me  18.0    0        O\n",
       "25            ##at  18.0    0        O\n",
       "26            from  19.0    0        O\n",
       "27       countries  20.0    0        O\n",
       "28           other  21.0    0        O\n",
       "29            than  22.0    0        O\n",
       "30         Britain  23.0    5    B-LOC\n",
       "31           until  24.0    0        O\n",
       "32             the  25.0    0        O\n",
       "33      scientific  26.0    0        O\n",
       "34          advice  27.0    0        O\n",
       "35             was  28.0    0        O\n",
       "36         clearer  29.0    0        O\n",
       "37               .  30.0    0        O\n",
       "38           [SEP]   NaN -100  SPECIAL"
      ]
     },
     "execution_count": 14,
     "metadata": {},
     "output_type": "execute_result"
    }
   ],
   "source": [
    "new_labels = align_labels_with_split_tokens(tag_ids, inputs.word_ids())\n",
    "\n",
    "new_tags = map(lambda tag_id: new_feature_names[tag_id], new_labels)\n",
    "\n",
    "df(zip(inputs.tokens(), inputs.word_ids(), new_labels, new_tags))"
   ]
  },
  {
   "cell_type": "markdown",
   "metadata": {},
   "source": [
    "### Apply to the entire dataset"
   ]
  },
  {
   "cell_type": "code",
   "execution_count": 15,
   "metadata": {},
   "outputs": [
    {
     "data": {
      "text/html": [
       "<div>\n",
       "<style scoped>\n",
       "    .dataframe tbody tr th:only-of-type {\n",
       "        vertical-align: middle;\n",
       "    }\n",
       "\n",
       "    .dataframe tbody tr th {\n",
       "        vertical-align: top;\n",
       "    }\n",
       "\n",
       "    .dataframe thead th {\n",
       "        text-align: right;\n",
       "    }\n",
       "</style>\n",
       "<table border=\"1\" class=\"dataframe\">\n",
       "  <thead>\n",
       "    <tr style=\"text-align: right;\">\n",
       "      <th></th>\n",
       "      <th>0</th>\n",
       "      <th>1</th>\n",
       "      <th>2</th>\n",
       "      <th>3</th>\n",
       "      <th>4</th>\n",
       "      <th>5</th>\n",
       "      <th>6</th>\n",
       "      <th>7</th>\n",
       "      <th>8</th>\n",
       "      <th>9</th>\n",
       "      <th>...</th>\n",
       "      <th>103</th>\n",
       "      <th>104</th>\n",
       "      <th>105</th>\n",
       "      <th>106</th>\n",
       "      <th>107</th>\n",
       "      <th>108</th>\n",
       "      <th>109</th>\n",
       "      <th>110</th>\n",
       "      <th>111</th>\n",
       "      <th>112</th>\n",
       "    </tr>\n",
       "  </thead>\n",
       "  <tbody>\n",
       "    <tr>\n",
       "      <th>0</th>\n",
       "      <td>EU</td>\n",
       "      <td>rejects</td>\n",
       "      <td>German</td>\n",
       "      <td>call</td>\n",
       "      <td>to</td>\n",
       "      <td>boycott</td>\n",
       "      <td>British</td>\n",
       "      <td>lamb</td>\n",
       "      <td>.</td>\n",
       "      <td>None</td>\n",
       "      <td>...</td>\n",
       "      <td>None</td>\n",
       "      <td>None</td>\n",
       "      <td>None</td>\n",
       "      <td>None</td>\n",
       "      <td>None</td>\n",
       "      <td>None</td>\n",
       "      <td>None</td>\n",
       "      <td>None</td>\n",
       "      <td>None</td>\n",
       "      <td>None</td>\n",
       "    </tr>\n",
       "    <tr>\n",
       "      <th>1</th>\n",
       "      <td>Peter</td>\n",
       "      <td>Blackburn</td>\n",
       "      <td>None</td>\n",
       "      <td>None</td>\n",
       "      <td>None</td>\n",
       "      <td>None</td>\n",
       "      <td>None</td>\n",
       "      <td>None</td>\n",
       "      <td>None</td>\n",
       "      <td>None</td>\n",
       "      <td>...</td>\n",
       "      <td>None</td>\n",
       "      <td>None</td>\n",
       "      <td>None</td>\n",
       "      <td>None</td>\n",
       "      <td>None</td>\n",
       "      <td>None</td>\n",
       "      <td>None</td>\n",
       "      <td>None</td>\n",
       "      <td>None</td>\n",
       "      <td>None</td>\n",
       "    </tr>\n",
       "    <tr>\n",
       "      <th>2</th>\n",
       "      <td>BRUSSELS</td>\n",
       "      <td>1996-08-22</td>\n",
       "      <td>None</td>\n",
       "      <td>None</td>\n",
       "      <td>None</td>\n",
       "      <td>None</td>\n",
       "      <td>None</td>\n",
       "      <td>None</td>\n",
       "      <td>None</td>\n",
       "      <td>None</td>\n",
       "      <td>...</td>\n",
       "      <td>None</td>\n",
       "      <td>None</td>\n",
       "      <td>None</td>\n",
       "      <td>None</td>\n",
       "      <td>None</td>\n",
       "      <td>None</td>\n",
       "      <td>None</td>\n",
       "      <td>None</td>\n",
       "      <td>None</td>\n",
       "      <td>None</td>\n",
       "    </tr>\n",
       "    <tr>\n",
       "      <th>3</th>\n",
       "      <td>The</td>\n",
       "      <td>European</td>\n",
       "      <td>Commission</td>\n",
       "      <td>said</td>\n",
       "      <td>on</td>\n",
       "      <td>Thursday</td>\n",
       "      <td>it</td>\n",
       "      <td>disagreed</td>\n",
       "      <td>with</td>\n",
       "      <td>German</td>\n",
       "      <td>...</td>\n",
       "      <td>None</td>\n",
       "      <td>None</td>\n",
       "      <td>None</td>\n",
       "      <td>None</td>\n",
       "      <td>None</td>\n",
       "      <td>None</td>\n",
       "      <td>None</td>\n",
       "      <td>None</td>\n",
       "      <td>None</td>\n",
       "      <td>None</td>\n",
       "    </tr>\n",
       "    <tr>\n",
       "      <th>4</th>\n",
       "      <td>Germany</td>\n",
       "      <td>'s</td>\n",
       "      <td>representative</td>\n",
       "      <td>to</td>\n",
       "      <td>the</td>\n",
       "      <td>European</td>\n",
       "      <td>Union</td>\n",
       "      <td>'s</td>\n",
       "      <td>veterinary</td>\n",
       "      <td>committee</td>\n",
       "      <td>...</td>\n",
       "      <td>None</td>\n",
       "      <td>None</td>\n",
       "      <td>None</td>\n",
       "      <td>None</td>\n",
       "      <td>None</td>\n",
       "      <td>None</td>\n",
       "      <td>None</td>\n",
       "      <td>None</td>\n",
       "      <td>None</td>\n",
       "      <td>None</td>\n",
       "    </tr>\n",
       "    <tr>\n",
       "      <th>...</th>\n",
       "      <td>...</td>\n",
       "      <td>...</td>\n",
       "      <td>...</td>\n",
       "      <td>...</td>\n",
       "      <td>...</td>\n",
       "      <td>...</td>\n",
       "      <td>...</td>\n",
       "      <td>...</td>\n",
       "      <td>...</td>\n",
       "      <td>...</td>\n",
       "      <td>...</td>\n",
       "      <td>...</td>\n",
       "      <td>...</td>\n",
       "      <td>...</td>\n",
       "      <td>...</td>\n",
       "      <td>...</td>\n",
       "      <td>...</td>\n",
       "      <td>...</td>\n",
       "      <td>...</td>\n",
       "      <td>...</td>\n",
       "      <td>...</td>\n",
       "    </tr>\n",
       "    <tr>\n",
       "      <th>14036</th>\n",
       "      <td>on</td>\n",
       "      <td>Friday</td>\n",
       "      <td>:</td>\n",
       "      <td>None</td>\n",
       "      <td>None</td>\n",
       "      <td>None</td>\n",
       "      <td>None</td>\n",
       "      <td>None</td>\n",
       "      <td>None</td>\n",
       "      <td>None</td>\n",
       "      <td>...</td>\n",
       "      <td>None</td>\n",
       "      <td>None</td>\n",
       "      <td>None</td>\n",
       "      <td>None</td>\n",
       "      <td>None</td>\n",
       "      <td>None</td>\n",
       "      <td>None</td>\n",
       "      <td>None</td>\n",
       "      <td>None</td>\n",
       "      <td>None</td>\n",
       "    </tr>\n",
       "    <tr>\n",
       "      <th>14037</th>\n",
       "      <td>Division</td>\n",
       "      <td>two</td>\n",
       "      <td>None</td>\n",
       "      <td>None</td>\n",
       "      <td>None</td>\n",
       "      <td>None</td>\n",
       "      <td>None</td>\n",
       "      <td>None</td>\n",
       "      <td>None</td>\n",
       "      <td>None</td>\n",
       "      <td>...</td>\n",
       "      <td>None</td>\n",
       "      <td>None</td>\n",
       "      <td>None</td>\n",
       "      <td>None</td>\n",
       "      <td>None</td>\n",
       "      <td>None</td>\n",
       "      <td>None</td>\n",
       "      <td>None</td>\n",
       "      <td>None</td>\n",
       "      <td>None</td>\n",
       "    </tr>\n",
       "    <tr>\n",
       "      <th>14038</th>\n",
       "      <td>Plymouth</td>\n",
       "      <td>2</td>\n",
       "      <td>Preston</td>\n",
       "      <td>1</td>\n",
       "      <td>None</td>\n",
       "      <td>None</td>\n",
       "      <td>None</td>\n",
       "      <td>None</td>\n",
       "      <td>None</td>\n",
       "      <td>None</td>\n",
       "      <td>...</td>\n",
       "      <td>None</td>\n",
       "      <td>None</td>\n",
       "      <td>None</td>\n",
       "      <td>None</td>\n",
       "      <td>None</td>\n",
       "      <td>None</td>\n",
       "      <td>None</td>\n",
       "      <td>None</td>\n",
       "      <td>None</td>\n",
       "      <td>None</td>\n",
       "    </tr>\n",
       "    <tr>\n",
       "      <th>14039</th>\n",
       "      <td>Division</td>\n",
       "      <td>three</td>\n",
       "      <td>None</td>\n",
       "      <td>None</td>\n",
       "      <td>None</td>\n",
       "      <td>None</td>\n",
       "      <td>None</td>\n",
       "      <td>None</td>\n",
       "      <td>None</td>\n",
       "      <td>None</td>\n",
       "      <td>...</td>\n",
       "      <td>None</td>\n",
       "      <td>None</td>\n",
       "      <td>None</td>\n",
       "      <td>None</td>\n",
       "      <td>None</td>\n",
       "      <td>None</td>\n",
       "      <td>None</td>\n",
       "      <td>None</td>\n",
       "      <td>None</td>\n",
       "      <td>None</td>\n",
       "    </tr>\n",
       "    <tr>\n",
       "      <th>14040</th>\n",
       "      <td>Swansea</td>\n",
       "      <td>1</td>\n",
       "      <td>Lincoln</td>\n",
       "      <td>2</td>\n",
       "      <td>None</td>\n",
       "      <td>None</td>\n",
       "      <td>None</td>\n",
       "      <td>None</td>\n",
       "      <td>None</td>\n",
       "      <td>None</td>\n",
       "      <td>...</td>\n",
       "      <td>None</td>\n",
       "      <td>None</td>\n",
       "      <td>None</td>\n",
       "      <td>None</td>\n",
       "      <td>None</td>\n",
       "      <td>None</td>\n",
       "      <td>None</td>\n",
       "      <td>None</td>\n",
       "      <td>None</td>\n",
       "      <td>None</td>\n",
       "    </tr>\n",
       "  </tbody>\n",
       "</table>\n",
       "<p>14041 rows × 113 columns</p>\n",
       "</div>"
      ],
      "text/plain": [
       "            0           1               2     3     4         5        6    \\\n",
       "0            EU     rejects          German  call    to   boycott  British   \n",
       "1         Peter   Blackburn            None  None  None      None     None   \n",
       "2      BRUSSELS  1996-08-22            None  None  None      None     None   \n",
       "3           The    European      Commission  said    on  Thursday       it   \n",
       "4       Germany          's  representative    to   the  European    Union   \n",
       "...         ...         ...             ...   ...   ...       ...      ...   \n",
       "14036        on      Friday               :  None  None      None     None   \n",
       "14037  Division         two            None  None  None      None     None   \n",
       "14038  Plymouth           2         Preston     1  None      None     None   \n",
       "14039  Division       three            None  None  None      None     None   \n",
       "14040   Swansea           1         Lincoln     2  None      None     None   \n",
       "\n",
       "             7           8          9    ...   103   104   105   106   107  \\\n",
       "0           lamb           .       None  ...  None  None  None  None  None   \n",
       "1           None        None       None  ...  None  None  None  None  None   \n",
       "2           None        None       None  ...  None  None  None  None  None   \n",
       "3      disagreed        with     German  ...  None  None  None  None  None   \n",
       "4             's  veterinary  committee  ...  None  None  None  None  None   \n",
       "...          ...         ...        ...  ...   ...   ...   ...   ...   ...   \n",
       "14036       None        None       None  ...  None  None  None  None  None   \n",
       "14037       None        None       None  ...  None  None  None  None  None   \n",
       "14038       None        None       None  ...  None  None  None  None  None   \n",
       "14039       None        None       None  ...  None  None  None  None  None   \n",
       "14040       None        None       None  ...  None  None  None  None  None   \n",
       "\n",
       "        108   109   110   111   112  \n",
       "0      None  None  None  None  None  \n",
       "1      None  None  None  None  None  \n",
       "2      None  None  None  None  None  \n",
       "3      None  None  None  None  None  \n",
       "4      None  None  None  None  None  \n",
       "...     ...   ...   ...   ...   ...  \n",
       "14036  None  None  None  None  None  \n",
       "14037  None  None  None  None  None  \n",
       "14038  None  None  None  None  None  \n",
       "14039  None  None  None  None  None  \n",
       "14040  None  None  None  None  None  \n",
       "\n",
       "[14041 rows x 113 columns]"
      ]
     },
     "execution_count": 15,
     "metadata": {},
     "output_type": "execute_result"
    }
   ],
   "source": [
    "# Peek at \"tokens\".\n",
    "df(raw_datasets[\"train\"][\"tokens\"])"
   ]
  },
  {
   "cell_type": "code",
   "execution_count": 16,
   "metadata": {},
   "outputs": [],
   "source": [
    "def tokenize_and_align(examples):\n",
    "    \"\"\"\n",
    "    Given a list of sentences\n",
    "    and a list of token ids, output a dataset of the tokenized\n",
    "    features and the properly-aligned labels.\n",
    "    \"\"\"\n",
    "\n",
    "    list_of_sentences_of_tokens = examples[\"tokens\"]\n",
    "    list_of_sentences_of_tag_ids = examples[\"ner_tags\"]\n",
    "\n",
    "    tokenized_inputs = tokenizer(\n",
    "        list_of_sentences_of_tokens,\n",
    "        truncation=True,\n",
    "        # Truncate to the maximum possible length of the model.\n",
    "        is_split_into_words=True,\n",
    "    )\n",
    "\n",
    "    list_of_aligned_tags_ids = []\n",
    "\n",
    "    for (sentence_index, tag_ids) in enumerate(list_of_sentences_of_tag_ids):\n",
    "        token_ids = tokenized_inputs.word_ids(sentence_index)\n",
    "        aligned_tag_ids = align_labels_with_split_tokens(tag_ids, token_ids)\n",
    "        list_of_aligned_tags_ids.append(aligned_tag_ids)\n",
    "\n",
    "    tokenized_inputs[\"labels\"] = list_of_aligned_tags_ids\n",
    "    return tokenized_inputs"
   ]
  },
  {
   "cell_type": "code",
   "execution_count": 17,
   "metadata": {},
   "outputs": [
    {
     "name": "stderr",
     "output_type": "stream",
     "text": [
      "Loading cached processed dataset at /root/.cache/huggingface/datasets/conll2003/conll2003/1.0.0/40e7cb6bcc374f7c349c83acd1e9352a4f09474eb691f64f364ee62eb65d0ca6/cache-e2bdf12298118e1f.arrow\n",
      "Loading cached processed dataset at /root/.cache/huggingface/datasets/conll2003/conll2003/1.0.0/40e7cb6bcc374f7c349c83acd1e9352a4f09474eb691f64f364ee62eb65d0ca6/cache-cf59fcf3af23ec85.arrow\n",
      "Loading cached processed dataset at /root/.cache/huggingface/datasets/conll2003/conll2003/1.0.0/40e7cb6bcc374f7c349c83acd1e9352a4f09474eb691f64f364ee62eb65d0ca6/cache-14e79b8a8a1f0fed.arrow\n"
     ]
    }
   ],
   "source": [
    "tokenized_datasets = raw_datasets.map(\n",
    "    tokenize_and_align, batched=True, remove_columns=raw_datasets[\"train\"].column_names\n",
    ")"
   ]
  },
  {
   "cell_type": "code",
   "execution_count": 18,
   "metadata": {},
   "outputs": [],
   "source": [
    "def get_tokenized_sentence(dataset_entry):\n",
    "    \"\"\"\n",
    "    Given a data sentence entry (a sentence),\n",
    "    return a tokenized list of words from that sentence.\n",
    "    \"\"\"\n",
    "    words = dataset_entry[\"tokens\"]\n",
    "    tokenized_words = tokenizer(\n",
    "        words, is_split_into_words=True, truncation=True\n",
    "    ).tokens()\n",
    "    return tokenized_words"
   ]
  },
  {
   "cell_type": "markdown",
   "metadata": {},
   "source": [
    "## Data Collation, Data Loader, and Metrics"
   ]
  },
  {
   "cell_type": "code",
   "execution_count": 19,
   "metadata": {},
   "outputs": [],
   "source": [
    "from transformers import DataCollatorForTokenClassification\n",
    "\n",
    "data_collator = DataCollatorForTokenClassification(tokenizer=tokenizer)"
   ]
  },
  {
   "cell_type": "code",
   "execution_count": 20,
   "metadata": {},
   "outputs": [],
   "source": [
    "from torch.utils.data import DataLoader\n",
    "\n",
    "train_dataloader = DataLoader(\n",
    "    tokenized_datasets[\"train\"],\n",
    "    shuffle=True,\n",
    "    collate_fn=data_collator,\n",
    "    batch_size=32,\n",
    ")\n",
    "\n",
    "eval_dataloader = DataLoader(\n",
    "    tokenized_datasets[\"validation\"],\n",
    "    collate_fn=data_collator,\n",
    "    batch_size=32,\n",
    ")"
   ]
  },
  {
   "cell_type": "code",
   "execution_count": 21,
   "metadata": {},
   "outputs": [],
   "source": [
    "from datasets import load_metric\n",
    "\n",
    "metric = load_metric(\"seqeval\")"
   ]
  },
  {
   "cell_type": "code",
   "execution_count": 22,
   "metadata": {},
   "outputs": [],
   "source": [
    "import torch.nn as nn\n",
    "\n",
    "loss_fct = nn.CrossEntropyLoss(ignore_index=-100)"
   ]
  },
  {
   "cell_type": "markdown",
   "metadata": {},
   "source": [
    "## Model"
   ]
  },
  {
   "cell_type": "markdown",
   "metadata": {},
   "source": [
    "### Define Model Classes and Util Functions"
   ]
  },
  {
   "cell_type": "code",
   "execution_count": 23,
   "metadata": {},
   "outputs": [],
   "source": [
    "import torch\n",
    "from torch import nn\n",
    "from transformers import BertModel, BertConfig\n",
    "\n",
    "\n",
    "class CustomModel(nn.Module):\n",
    "    def __init__(self, bert_config, bilstm_dimension=256, include_transformer=False):\n",
    "        super(CustomModel, self).__init__()\n",
    "\n",
    "        self.include_transformer = include_transformer\n",
    "        self.bert = BertModel(bert_config)\n",
    "\n",
    "        # While pre-trained BERT includes both an embedder and a\n",
    "        # context-aware pre-trained transformer,\n",
    "        # include only the embedder if include_transformer = False.\n",
    "        bert_layers = list(self.bert.children())\n",
    "        self.bert_embedder = bert_layers[0]\n",
    "\n",
    "        # Freeze BERT weights in both the embeddings and the transformer.\n",
    "        for parameter in self.bert.parameters():\n",
    "            parameter.requires_grad = False\n",
    "\n",
    "        self.dropout = nn.Dropout(bert_config.hidden_dropout_prob)\n",
    "\n",
    "        self.bilstm = nn.LSTM(\n",
    "            bert_config.hidden_size,\n",
    "            bilstm_dimension,\n",
    "            num_layers=1,\n",
    "            bidirectional=True,\n",
    "            batch_first=True,\n",
    "        )\n",
    "        self.linear = nn.Linear(bilstm_dimension * 2, bert_config.num_labels)\n",
    "\n",
    "    def get_trainable_parameters(self):\n",
    "        return list(self.bilstm.parameters()) + list(self.linear.parameters())\n",
    "\n",
    "    def forward(self, **batch):\n",
    "        if self.include_transformer:\n",
    "            bert_embedding = self.bert(\n",
    "                input_ids=batch[\"input_ids\"],\n",
    "                attention_mask=batch[\"attention_mask\"],\n",
    "                token_type_ids=batch[\"token_type_ids\"],\n",
    "            )[0]\n",
    "        else:\n",
    "            bert_embedding = self.bert_embedder(\n",
    "                input_ids=batch[\"input_ids\"],\n",
    "                # attention_mask=batch[\"attention_mask\"],\n",
    "                # The embedder is supposed to ignore paddings.\n",
    "                token_type_ids=batch[\"token_type_ids\"],\n",
    "            )\n",
    "\n",
    "        bilstm_embedding = self.bilstm(bert_embedding)[0]\n",
    "        bilstm_embedding = self.dropout(bilstm_embedding)\n",
    "\n",
    "        output = self.linear(\n",
    "            bilstm_embedding\n",
    "        )  # (batch_size, padded_sentence_length, num_categories)\n",
    "\n",
    "        return output\n",
    "\n",
    "\n",
    "bert_config = BertConfig.from_pretrained(\n",
    "    \"bert-base-cased\", num_labels=len(feature_names)\n",
    ")"
   ]
  },
  {
   "cell_type": "code",
   "execution_count": 24,
   "metadata": {},
   "outputs": [],
   "source": [
    "def compute_metrics(eval_preds):\n",
    "    logits, labels = eval_preds\n",
    "    predictions = np.argmax(logits, axis=-1)\n",
    "\n",
    "    # Remove ignored index (special tokens) and convert to labels\n",
    "    true_labels = [[feature_names[l] for l in label if l != -100] for label in labels]\n",
    "    true_predictions = [\n",
    "        [feature_names[p] for (p, l) in zip(prediction, label) if l != -100]\n",
    "        for prediction, label in zip(predictions, labels)\n",
    "    ]\n",
    "    all_metrics = metric.compute(predictions=true_predictions, references=true_labels)\n",
    "    return {\n",
    "        \"precision\": all_metrics[\"overall_precision\"],\n",
    "        \"recall\": all_metrics[\"overall_recall\"],\n",
    "        \"f1\": all_metrics[\"overall_f1\"],\n",
    "        \"accuracy\": all_metrics[\"overall_accuracy\"],\n",
    "    }"
   ]
  },
  {
   "cell_type": "code",
   "execution_count": 25,
   "metadata": {},
   "outputs": [],
   "source": [
    "def postprocess(predictions, labels):\n",
    "    predictions = predictions  # .cpu().clone().numpy()\n",
    "    labels = labels  # .cpu().clone().numpy()\n",
    "\n",
    "    # Remove ignored index (special tokens) and convert to labels\n",
    "    truncated_labels = [\n",
    "        [feature_names[l] for l in label if l != -100] for label in labels\n",
    "    ]\n",
    "    # truncated_predictions = [\n",
    "    #     [feature_names[p] for (p, l) in zip(prediction, label) if l != -100]\n",
    "    #     for prediction, label in zip(predictions, labels)\n",
    "    # ]\n",
    "    truncated_predictions = []\n",
    "\n",
    "    for sentence_predictions, sentence_labels in zip(predictions, labels):\n",
    "        sentence_paired = []\n",
    "        for prediction, label in zip(sentence_predictions, sentence_labels):\n",
    "            prediction_index = torch.argmax(prediction).cpu()\n",
    "            if label != -100:\n",
    "                sentence_paired.append(feature_names[prediction_index])\n",
    "\n",
    "        truncated_predictions.append(sentence_paired)\n",
    "\n",
    "    return truncated_labels, truncated_predictions"
   ]
  },
  {
   "cell_type": "markdown",
   "metadata": {},
   "source": [
    "### Model- Baseline (No Transformer)"
   ]
  },
  {
   "cell_type": "markdown",
   "metadata": {},
   "source": [
    "#### Instantiate Model"
   ]
  },
  {
   "cell_type": "code",
   "execution_count": 26,
   "metadata": {},
   "outputs": [
    {
     "name": "stdout",
     "output_type": "stream",
     "text": [
      "4390\n"
     ]
    }
   ],
   "source": [
    "from torch.optim import AdamW\n",
    "from accelerate import Accelerator\n",
    "from transformers import get_scheduler\n",
    "\n",
    "#\n",
    "model_no_transformer = CustomModel(bert_config, include_transformer=False, bilstm_dimension=lstm_num_hidden_dimensions)\n",
    "optimizer = AdamW(model_no_transformer.parameters())\n",
    "\n",
    "#\n",
    "accelerator = Accelerator()\n",
    "(\n",
    "    model_no_transformer,\n",
    "    optimizer,\n",
    "    train_dataloader,\n",
    "    eval_dataloader,\n",
    ") = accelerator.prepare(\n",
    "    model_no_transformer, optimizer, train_dataloader, eval_dataloader\n",
    ")\n",
    "\n",
    "# Scheduler\n",
    "num_train_epochs = 10\n",
    "num_update_steps_per_epoch = len(train_dataloader)\n",
    "num_training_steps = num_train_epochs * num_update_steps_per_epoch\n",
    "print(num_training_steps)\n",
    "\n",
    "lr_scheduler = get_scheduler(\n",
    "    \"linear\",\n",
    "    optimizer=optimizer,\n",
    "    num_warmup_steps=0,\n",
    "    num_training_steps=num_training_steps,\n",
    ")"
   ]
  },
  {
   "cell_type": "markdown",
   "metadata": {},
   "source": [
    "#### Train Model"
   ]
  },
  {
   "cell_type": "code",
   "execution_count": 27,
   "metadata": {},
   "outputs": [
    {
     "data": {
      "application/vnd.jupyter.widget-view+json": {
       "model_id": "ae6aaf76e48f47388095df2eec0aec88",
       "version_major": 2,
       "version_minor": 0
      },
      "text/plain": [
       "  0%|          | 0/4390 [00:00<?, ?it/s]"
      ]
     },
     "metadata": {},
     "output_type": "display_data"
    },
    {
     "data": {
      "application/vnd.jupyter.widget-view+json": {
       "model_id": "2eaa3b53b441491e98e646a1e2d9ed06",
       "version_major": 2,
       "version_minor": 0
      },
      "text/plain": [
       "  0%|          | 0/102 [00:00<?, ?it/s]"
      ]
     },
     "metadata": {},
     "output_type": "display_data"
    },
    {
     "name": "stdout",
     "output_type": "stream",
     "text": [
      "Epoch 0: overall accuracy 0.8484429269441337\n",
      "{'LOC': {'f1': 0.5084745762711864,\n",
      "         'number': 1837,\n",
      "         'precision': 0.6162790697674418,\n",
      "         'recall': 0.4327708219923789},\n",
      " 'MISC': {'f1': 0.02631578947368421,\n",
      "          'number': 922,\n",
      "          'precision': 0.09859154929577464,\n",
      "          'recall': 0.015184381778741865},\n",
      " 'ORG': {'f1': 0.22725611983924002,\n",
      "         'number': 1341,\n",
      "         'precision': 0.22277936962750716,\n",
      "         'recall': 0.2319164802386279},\n",
      " 'PER': {'f1': 0.3128220672931191,\n",
      "         'number': 1842,\n",
      "         'precision': 0.35415236787920384,\n",
      "         'recall': 0.28013029315960913},\n",
      " 'overall_accuracy': 0.8484429269441337,\n",
      " 'overall_f1': 0.319937420553437,\n",
      " 'overall_precision': 0.3817969661610268,\n",
      " 'overall_recall': 0.27532817233254797}\n"
     ]
    },
    {
     "data": {
      "application/vnd.jupyter.widget-view+json": {
       "model_id": "212b9cb8c8bb486da10594ca2f683e3c",
       "version_major": 2,
       "version_minor": 0
      },
      "text/plain": [
       "  0%|          | 0/102 [00:00<?, ?it/s]"
      ]
     },
     "metadata": {},
     "output_type": "display_data"
    },
    {
     "name": "stdout",
     "output_type": "stream",
     "text": [
      "Epoch 1: overall accuracy 0.8864131394595868\n",
      "{'LOC': {'f1': 0.6097111247695144,\n",
      "         'number': 1837,\n",
      "         'precision': 0.7000705716302047,\n",
      "         'recall': 0.5400108873162766},\n",
      " 'MISC': {'f1': 0.30154277699859744,\n",
      "          'number': 922,\n",
      "          'precision': 0.42658730158730157,\n",
      "          'recall': 0.23318872017353579},\n",
      " 'ORG': {'f1': 0.3496271748135874,\n",
      "         'number': 1341,\n",
      "         'precision': 0.3932898415657036,\n",
      "         'recall': 0.31469052945563014},\n",
      " 'PER': {'f1': 0.45985010706638113,\n",
      "         'number': 1842,\n",
      "         'precision': 0.4535374868004224,\n",
      "         'recall': 0.46634093376764385},\n",
      " 'overall_accuracy': 0.8864131394595868,\n",
      " 'overall_f1': 0.4594644506001847,\n",
      " 'overall_precision': 0.5090016366612111,\n",
      " 'overall_recall': 0.4187142376304275}\n"
     ]
    },
    {
     "data": {
      "application/vnd.jupyter.widget-view+json": {
       "model_id": "ac0c4812611e40dd954b857ea389e53c",
       "version_major": 2,
       "version_minor": 0
      },
      "text/plain": [
       "  0%|          | 0/102 [00:00<?, ?it/s]"
      ]
     },
     "metadata": {},
     "output_type": "display_data"
    },
    {
     "name": "stdout",
     "output_type": "stream",
     "text": [
      "Epoch 2: overall accuracy 0.9023517984340966\n",
      "{'LOC': {'f1': 0.6740629685157421,\n",
      "         'number': 1837,\n",
      "         'precision': 0.7503337783711616,\n",
      "         'recall': 0.6118671747414263},\n",
      " 'MISC': {'f1': 0.4385221078134464,\n",
      "          'number': 922,\n",
      "          'precision': 0.49657064471879286,\n",
      "          'recall': 0.3926247288503254},\n",
      " 'ORG': {'f1': 0.4091097308488613,\n",
      "         'number': 1341,\n",
      "         'precision': 0.45996275605214154,\n",
      "         'recall': 0.36838180462341535},\n",
      " 'PER': {'f1': 0.49424979941160735,\n",
      "         'number': 1842,\n",
      "         'precision': 0.4870848708487085,\n",
      "         'recall': 0.501628664495114},\n",
      " 'overall_accuracy': 0.9023517984340966,\n",
      " 'overall_f1': 0.5213644524236984,\n",
      " 'overall_precision': 0.5586764140053867,\n",
      " 'overall_recall': 0.4887243352406597}\n"
     ]
    },
    {
     "data": {
      "application/vnd.jupyter.widget-view+json": {
       "model_id": "f80f3f5c27344c44b0d8bc5e9b862f25",
       "version_major": 2,
       "version_minor": 0
      },
      "text/plain": [
       "  0%|          | 0/102 [00:00<?, ?it/s]"
      ]
     },
     "metadata": {},
     "output_type": "display_data"
    },
    {
     "name": "stdout",
     "output_type": "stream",
     "text": [
      "Epoch 3: overall accuracy 0.9117854830164244\n",
      "{'LOC': {'f1': 0.7065868263473054,\n",
      "         'number': 1837,\n",
      "         'precision': 0.7419161676646706,\n",
      "         'recall': 0.6744692433315188},\n",
      " 'MISC': {'f1': 0.478310502283105,\n",
      "          'number': 922,\n",
      "          'precision': 0.5048192771084338,\n",
      "          'recall': 0.4544468546637744},\n",
      " 'ORG': {'f1': 0.4295161851722938,\n",
      "         'number': 1341,\n",
      "         'precision': 0.4027415143603133,\n",
      "         'recall': 0.4601043997017151},\n",
      " 'PER': {'f1': 0.5488642366613841,\n",
      "         'number': 1842,\n",
      "         'precision': 0.5344650205761317,\n",
      "         'recall': 0.5640608034744843},\n",
      " 'overall_accuracy': 0.9117854830164244,\n",
      " 'overall_f1': 0.5561335794596409,\n",
      " 'overall_precision': 0.5545515394912985,\n",
      " 'overall_recall': 0.5577246718276675}\n"
     ]
    },
    {
     "data": {
      "application/vnd.jupyter.widget-view+json": {
       "model_id": "a1f9b6023fc64d3985eeb4937268b50e",
       "version_major": 2,
       "version_minor": 0
      },
      "text/plain": [
       "  0%|          | 0/102 [00:00<?, ?it/s]"
      ]
     },
     "metadata": {},
     "output_type": "display_data"
    },
    {
     "name": "stdout",
     "output_type": "stream",
     "text": [
      "Epoch 4: overall accuracy 0.9181580031789015\n",
      "{'LOC': {'f1': 0.7086788280818132,\n",
      "         'number': 1837,\n",
      "         'precision': 0.7198203256597417,\n",
      "         'recall': 0.6978769733260751},\n",
      " 'MISC': {'f1': 0.518431831480398,\n",
      "          'number': 922,\n",
      "          'precision': 0.5628970775095299,\n",
      "          'recall': 0.4804772234273319},\n",
      " 'ORG': {'f1': 0.4794572182434979,\n",
      "         'number': 1341,\n",
      "         'precision': 0.4847560975609756,\n",
      "         'recall': 0.4742729306487696},\n",
      " 'PER': {'f1': 0.5629589339135165,\n",
      "         'number': 1842,\n",
      "         'precision': 0.5640326975476839,\n",
      "         'recall': 0.5618892508143323},\n",
      " 'overall_accuracy': 0.9181580031789015,\n",
      " 'overall_f1': 0.5826541991936176,\n",
      " 'overall_precision': 0.594225721784777,\n",
      " 'overall_recall': 0.571524739145069}\n"
     ]
    },
    {
     "data": {
      "application/vnd.jupyter.widget-view+json": {
       "model_id": "e16dd21654514791b41cc610536ce535",
       "version_major": 2,
       "version_minor": 0
      },
      "text/plain": [
       "  0%|          | 0/102 [00:00<?, ?it/s]"
      ]
     },
     "metadata": {},
     "output_type": "display_data"
    },
    {
     "name": "stdout",
     "output_type": "stream",
     "text": [
      "Epoch 5: overall accuracy 0.9143168305174545\n",
      "{'LOC': {'f1': 0.7347057118005219,\n",
      "         'number': 1837,\n",
      "         'precision': 0.7859801488833746,\n",
      "         'recall': 0.6897114861186717},\n",
      " 'MISC': {'f1': 0.5355850422195416,\n",
      "          'number': 922,\n",
      "          'precision': 0.6032608695652174,\n",
      "          'recall': 0.48156182212581344},\n",
      " 'ORG': {'f1': 0.48378481495612363,\n",
      "         'number': 1341,\n",
      "         'precision': 0.4953125,\n",
      "         'recall': 0.4727815063385533},\n",
      " 'PER': {'f1': 0.5237401689484416,\n",
      "         'number': 1842,\n",
      "         'precision': 0.5650534255185418,\n",
      "         'recall': 0.48805646036916395},\n",
      " 'overall_accuracy': 0.9143168305174545,\n",
      " 'overall_f1': 0.5813099184660873,\n",
      " 'overall_precision': 0.6215750143705691,\n",
      " 'overall_recall': 0.5459441265567149}\n"
     ]
    },
    {
     "data": {
      "application/vnd.jupyter.widget-view+json": {
       "model_id": "1b6b69d2bff2438c97ac7ee3f09c0985",
       "version_major": 2,
       "version_minor": 0
      },
      "text/plain": [
       "  0%|          | 0/102 [00:00<?, ?it/s]"
      ]
     },
     "metadata": {},
     "output_type": "display_data"
    },
    {
     "name": "stdout",
     "output_type": "stream",
     "text": [
      "Epoch 6: overall accuracy 0.9263112968740802\n",
      "{'LOC': {'f1': 0.7453854505971769,\n",
      "         'number': 1837,\n",
      "         'precision': 0.7433676231727125,\n",
      "         'recall': 0.7474142623843223},\n",
      " 'MISC': {'f1': 0.559906487434249,\n",
      "          'number': 922,\n",
      "          'precision': 0.6070975918884665,\n",
      "          'recall': 0.5195227765726681},\n",
      " 'ORG': {'f1': 0.5183431952662721,\n",
      "         'number': 1341,\n",
      "         'precision': 0.550251256281407,\n",
      "         'recall': 0.4899328859060403},\n",
      " 'PER': {'f1': 0.6013330041964946,\n",
      "         'number': 1842,\n",
      "         'precision': 0.5513807152557718,\n",
      "         'recall': 0.6612377850162866},\n",
      " 'overall_accuracy': 0.9263112968740802,\n",
      " 'overall_f1': 0.6221517402554043,\n",
      " 'overall_precision': 0.6171551581387646,\n",
      " 'overall_recall': 0.6272298889262874}\n"
     ]
    },
    {
     "data": {
      "application/vnd.jupyter.widget-view+json": {
       "model_id": "12e91e0e4665429380f6551582428eb9",
       "version_major": 2,
       "version_minor": 0
      },
      "text/plain": [
       "  0%|          | 0/102 [00:00<?, ?it/s]"
      ]
     },
     "metadata": {},
     "output_type": "display_data"
    },
    {
     "name": "stdout",
     "output_type": "stream",
     "text": [
      "Epoch 7: overall accuracy 0.9272237593453818\n",
      "{'LOC': {'f1': 0.7524696584815128,\n",
      "         'number': 1837,\n",
      "         'precision': 0.7813599062133646,\n",
      "         'recall': 0.7256396298312466},\n",
      " 'MISC': {'f1': 0.5804154302670623,\n",
      "          'number': 922,\n",
      "          'precision': 0.6408912188728703,\n",
      "          'recall': 0.5303687635574837},\n",
      " 'ORG': {'f1': 0.5289062499999999,\n",
      "         'number': 1341,\n",
      "         'precision': 0.5553732567678425,\n",
      "         'recall': 0.5048471290082028},\n",
      " 'PER': {'f1': 0.5981259760541385,\n",
      "         'number': 1842,\n",
      "         'precision': 0.5745,\n",
      "         'recall': 0.6237785016286646},\n",
      " 'overall_accuracy': 0.9272237593453818,\n",
      " 'overall_f1': 0.6273430782459156,\n",
      " 'overall_precision': 0.6413502109704642,\n",
      " 'overall_recall': 0.6139347021204982}\n"
     ]
    },
    {
     "data": {
      "application/vnd.jupyter.widget-view+json": {
       "model_id": "d83d0a6117ae483da11bd76da46fb83f",
       "version_major": 2,
       "version_minor": 0
      },
      "text/plain": [
       "  0%|          | 0/102 [00:00<?, ?it/s]"
      ]
     },
     "metadata": {},
     "output_type": "display_data"
    },
    {
     "name": "stdout",
     "output_type": "stream",
     "text": [
      "Epoch 8: overall accuracy 0.9281362218166833\n",
      "{'LOC': {'f1': 0.7636363636363637,\n",
      "         'number': 1837,\n",
      "         'precision': 0.7985739750445633,\n",
      "         'recall': 0.7316276537833424},\n",
      " 'MISC': {'f1': 0.5927152317880795,\n",
      "          'number': 922,\n",
      "          'precision': 0.6033707865168539,\n",
      "          'recall': 0.5824295010845987},\n",
      " 'ORG': {'f1': 0.5269031486648067,\n",
      "         'number': 1341,\n",
      "         'precision': 0.5659246575342466,\n",
      "         'recall': 0.4929157345264728},\n",
      " 'PER': {'f1': 0.60625,\n",
      "         'number': 1842,\n",
      "         'precision': 0.5825825825825826,\n",
      "         'recall': 0.6319218241042345},\n",
      " 'overall_accuracy': 0.9281362218166833,\n",
      " 'overall_f1': 0.6345347144936222,\n",
      " 'overall_precision': 0.6457571005401638,\n",
      " 'overall_recall': 0.6236957253450017}\n"
     ]
    },
    {
     "data": {
      "application/vnd.jupyter.widget-view+json": {
       "model_id": "150a025ff62e44dc893fcdf2e475b511",
       "version_major": 2,
       "version_minor": 0
      },
      "text/plain": [
       "  0%|          | 0/102 [00:00<?, ?it/s]"
      ]
     },
     "metadata": {},
     "output_type": "display_data"
    },
    {
     "name": "stdout",
     "output_type": "stream",
     "text": [
      "Epoch 9: overall accuracy 0.9294018955671984\n",
      "{'LOC': {'f1': 0.7625174825174825,\n",
      "         'number': 1837,\n",
      "         'precision': 0.784234752589183,\n",
      "         'recall': 0.7419706042460533},\n",
      " 'MISC': {'f1': 0.5855338691159587,\n",
      "          'number': 922,\n",
      "          'precision': 0.6219512195121951,\n",
      "          'recall': 0.5531453362255966},\n",
      " 'ORG': {'f1': 0.5420489296636085,\n",
      "         'number': 1341,\n",
      "         'precision': 0.556078431372549,\n",
      "         'recall': 0.5287099179716629},\n",
      " 'PER': {'f1': 0.6084447941253607,\n",
      "         'number': 1842,\n",
      "         'precision': 0.5885337392186707,\n",
      "         'recall': 0.6297502714440825},\n",
      " 'overall_accuracy': 0.9294018955671984,\n",
      " 'overall_f1': 0.6371530733866849,\n",
      " 'overall_precision': 0.6447277739490007,\n",
      " 'overall_recall': 0.6297542914843487}\n",
      "{'LOC': {'f1': 0.7625174825174825,\n",
      "         'number': 1837,\n",
      "         'precision': 0.784234752589183,\n",
      "         'recall': 0.7419706042460533},\n",
      " 'MISC': {'f1': 0.5855338691159587,\n",
      "          'number': 922,\n",
      "          'precision': 0.6219512195121951,\n",
      "          'recall': 0.5531453362255966},\n",
      " 'ORG': {'f1': 0.5420489296636085,\n",
      "         'number': 1341,\n",
      "         'precision': 0.556078431372549,\n",
      "         'recall': 0.5287099179716629},\n",
      " 'PER': {'f1': 0.6084447941253607,\n",
      "         'number': 1842,\n",
      "         'precision': 0.5885337392186707,\n",
      "         'recall': 0.6297502714440825},\n",
      " 'overall_accuracy': 0.9294018955671984,\n",
      " 'overall_f1': 0.6371530733866849,\n",
      " 'overall_precision': 0.6447277739490007,\n",
      " 'overall_recall': 0.6297542914843487}\n"
     ]
    }
   ],
   "source": [
    "from tqdm.auto import tqdm\n",
    "import torch\n",
    "import pprint\n",
    "\n",
    "progress_bar = tqdm(range(num_training_steps))\n",
    "all_results = []  # List of metrics, one for each epoch.\n",
    "\n",
    "\n",
    "for epoch in range(num_train_epochs):\n",
    "    model_no_transformer.train()\n",
    "    for batch in train_dataloader:\n",
    "        outputs = model_no_transformer(**batch)\n",
    "        loss = loss_fct(\n",
    "            outputs.reshape(-1, len(feature_names)), batch[\"labels\"].flatten()\n",
    "        )\n",
    "        accelerator.backward(loss)\n",
    "\n",
    "        optimizer.step()\n",
    "        lr_scheduler.step()\n",
    "        optimizer.zero_grad()\n",
    "        progress_bar.update(1)\n",
    "\n",
    "    model_no_transformer.eval()\n",
    "\n",
    "    for batch in tqdm(eval_dataloader):\n",
    "        with torch.no_grad():\n",
    "            predictions = model_no_transformer(**batch)\n",
    "\n",
    "        labels = batch[\"labels\"]\n",
    "\n",
    "        predictions = accelerator.pad_across_processes(\n",
    "            predictions, dim=1, pad_index=len(feature_names) - 1\n",
    "        )\n",
    "        labels = accelerator.pad_across_processes(\n",
    "            labels, dim=1, pad_index=len(feature_names) - 1\n",
    "        )\n",
    "\n",
    "        predictions_gathered = accelerator.gather(predictions)\n",
    "        labels_gathered = accelerator.gather(labels)\n",
    "\n",
    "        true_labels, prediction_labels = postprocess(\n",
    "            predictions_gathered, labels_gathered\n",
    "        )\n",
    "        metric.add_batch(predictions=prediction_labels, references=true_labels)\n",
    "\n",
    "    # print(metric)\n",
    "    # print(prediction_labels)\n",
    "    results = metric.compute()\n",
    "    print(f\"Epoch {epoch}: overall accuracy {results['overall_accuracy']}\")\n",
    "    pprint.pprint(results)\n",
    "    all_results.append(results)\n",
    "\n",
    "pprint.pprint(results)\n",
    "\n",
    "accelerator.wait_for_everyone()\n",
    "\n",
    "unwrapped_model_no_transformer = accelerator.unwrap_model(model_no_transformer)"
   ]
  },
  {
   "cell_type": "code",
   "execution_count": 28,
   "metadata": {},
   "outputs": [
    {
     "data": {
      "image/png": "[encoded data removed]",
      "text/plain": [
       "<Figure size 432x288 with 1 Axes>"
      ]
     },
     "metadata": {
      "needs_background": "light"
     },
     "output_type": "display_data"
    }
   ],
   "source": [
    "import matplotlib.pyplot as plt\n",
    "import numpy as np\n",
    "from pandas import DataFrame as df\n",
    "\n",
    "\n",
    "results_table = df(all_results)\n",
    "for key in [\"overall_accuracy\", \"overall_f1\", \"overall_precision\", \"overall_recall\"]:\n",
    "    plt.plot(results_table[key], label=key)\n",
    "\n",
    "plt.title(f\"{lstm_num_hidden_dimensions}-dimension LSTM Model- Baseline\")\n",
    "plt.legend()\n",
    "plt.show()"
   ]
  },
  {
   "cell_type": "markdown",
   "metadata": {},
   "source": [
    "#### Run Inference"
   ]
  },
  {
   "cell_type": "code",
   "execution_count": 29,
   "metadata": {},
   "outputs": [
    {
     "data": {
      "application/vnd.jupyter.widget-view+json": {
       "model_id": "3d8db3b3f5fb43938977562268eaccd4",
       "version_major": 2,
       "version_minor": 0
      },
      "text/plain": [
       "  0%|          | 0/102 [00:00<?, ?it/s]"
      ]
     },
     "metadata": {},
     "output_type": "display_data"
    }
   ],
   "source": [
    "example_labels_model_no_transformer = []  # (Ground Truth, Predictions)\n",
    "\n",
    "for batch in tqdm(eval_dataloader):\n",
    "    with torch.no_grad():\n",
    "        predictions = model_no_transformer(**batch)\n",
    "\n",
    "    labels = batch[\"labels\"]\n",
    "\n",
    "    predictions = accelerator.pad_across_processes(\n",
    "        predictions, dim=1, pad_index=len(feature_names) - 1\n",
    "    )\n",
    "    labels = accelerator.pad_across_processes(\n",
    "        labels, dim=1, pad_index=len(feature_names) - 1\n",
    "    )\n",
    "\n",
    "    predictions_gathered = accelerator.gather(predictions)\n",
    "    labels_gathered = accelerator.gather(labels)\n",
    "\n",
    "    true_labels, prediction_labels = postprocess(predictions_gathered, labels_gathered)\n",
    "\n",
    "    example_labels_model_no_transformer.extend(zip(true_labels, prediction_labels))"
   ]
  },
  {
   "cell_type": "markdown",
   "metadata": {},
   "source": [
    "### Model- Experiment (With Transformer)"
   ]
  },
  {
   "cell_type": "markdown",
   "metadata": {},
   "source": [
    "#### Instantiate Model"
   ]
  },
  {
   "cell_type": "code",
   "execution_count": 30,
   "metadata": {},
   "outputs": [
    {
     "name": "stdout",
     "output_type": "stream",
     "text": [
      "4390\n"
     ]
    }
   ],
   "source": [
    "from torch.optim import AdamW\n",
    "from accelerate import Accelerator\n",
    "from transformers import get_scheduler\n",
    "\n",
    "#\n",
    "model_with_transformer = CustomModel(bert_config, include_transformer=True)\n",
    "optimizer = AdamW(model_with_transformer.parameters())\n",
    "\n",
    "#\n",
    "accelerator = Accelerator()\n",
    "(\n",
    "    model_with_transformer,\n",
    "    optimizer,\n",
    "    train_dataloader,\n",
    "    eval_dataloader,\n",
    ") = accelerator.prepare(\n",
    "    model_with_transformer, optimizer, train_dataloader, eval_dataloader\n",
    ")\n",
    "\n",
    "# Scheduler\n",
    "num_train_epochs = 10\n",
    "num_update_steps_per_epoch = len(train_dataloader)\n",
    "num_training_steps = num_train_epochs * num_update_steps_per_epoch\n",
    "print(num_training_steps)\n",
    "\n",
    "lr_scheduler = get_scheduler(\n",
    "    \"linear\",\n",
    "    optimizer=optimizer,\n",
    "    num_warmup_steps=0,\n",
    "    num_training_steps=num_training_steps,\n",
    ")"
   ]
  },
  {
   "cell_type": "markdown",
   "metadata": {},
   "source": [
    "#### Train Model"
   ]
  },
  {
   "cell_type": "code",
   "execution_count": 31,
   "metadata": {},
   "outputs": [
    {
     "data": {
      "application/vnd.jupyter.widget-view+json": {
       "model_id": "ea4894cff2904bc2a7d3ecec7716fae3",
       "version_major": 2,
       "version_minor": 0
      },
      "text/plain": [
       "  0%|          | 0/4390 [00:00<?, ?it/s]"
      ]
     },
     "metadata": {},
     "output_type": "display_data"
    },
    {
     "data": {
      "application/vnd.jupyter.widget-view+json": {
       "model_id": "a17d2beefb074ee6abdd6b0204386660",
       "version_major": 2,
       "version_minor": 0
      },
      "text/plain": [
       "  0%|          | 0/102 [00:00<?, ?it/s]"
      ]
     },
     "metadata": {},
     "output_type": "display_data"
    },
    {
     "name": "stderr",
     "output_type": "stream",
     "text": [
      "/opt/conda/lib/python3.7/site-packages/seqeval/metrics/v1.py:57: UndefinedMetricWarning: Precision and F-score are ill-defined and being set to 0.0 in labels with no predicted samples. Use `zero_division` parameter to control this behavior.\n",
      "  _warn_prf(average, modifier, msg_start, len(result))\n"
     ]
    },
    {
     "name": "stdout",
     "output_type": "stream",
     "text": [
      "Epoch 0: overall accuracy 0.8109730970742333\n"
     ]
    },
    {
     "data": {
      "application/vnd.jupyter.widget-view+json": {
       "model_id": "53405e9e0d76433b8f6af0c9e357bf84",
       "version_major": 2,
       "version_minor": 0
      },
      "text/plain": [
       "  0%|          | 0/102 [00:00<?, ?it/s]"
      ]
     },
     "metadata": {},
     "output_type": "display_data"
    },
    {
     "name": "stdout",
     "output_type": "stream",
     "text": [
      "Epoch 1: overall accuracy 0.8379201742508977\n"
     ]
    },
    {
     "data": {
      "application/vnd.jupyter.widget-view+json": {
       "model_id": "8a51302e8f8246fba0c1e7edd4783b66",
       "version_major": 2,
       "version_minor": 0
      },
      "text/plain": [
       "  0%|          | 0/102 [00:00<?, ?it/s]"
      ]
     },
     "metadata": {},
     "output_type": "display_data"
    },
    {
     "name": "stdout",
     "output_type": "stream",
     "text": [
      "Epoch 2: overall accuracy 0.8466621534114323\n"
     ]
    },
    {
     "data": {
      "application/vnd.jupyter.widget-view+json": {
       "model_id": "1ec90c56723540d7a25c855cf1f18d43",
       "version_major": 2,
       "version_minor": 0
      },
      "text/plain": [
       "  0%|          | 0/102 [00:00<?, ?it/s]"
      ]
     },
     "metadata": {},
     "output_type": "display_data"
    },
    {
     "name": "stdout",
     "output_type": "stream",
     "text": [
      "Epoch 3: overall accuracy 0.8635427091305116\n"
     ]
    },
    {
     "data": {
      "application/vnd.jupyter.widget-view+json": {
       "model_id": "94c3f338b1214e0480babb5452486baa",
       "version_major": 2,
       "version_minor": 0
      },
      "text/plain": [
       "  0%|          | 0/102 [00:00<?, ?it/s]"
      ]
     },
     "metadata": {},
     "output_type": "display_data"
    },
    {
     "name": "stdout",
     "output_type": "stream",
     "text": [
      "Epoch 4: overall accuracy 0.8693854123741684\n"
     ]
    },
    {
     "data": {
      "application/vnd.jupyter.widget-view+json": {
       "model_id": "6af556a5e1f84ced8775737c3e048bef",
       "version_major": 2,
       "version_minor": 0
      },
      "text/plain": [
       "  0%|          | 0/102 [00:00<?, ?it/s]"
      ]
     },
     "metadata": {},
     "output_type": "display_data"
    },
    {
     "name": "stdout",
     "output_type": "stream",
     "text": [
      "Epoch 5: overall accuracy 0.8787307941366927\n"
     ]
    },
    {
     "data": {
      "application/vnd.jupyter.widget-view+json": {
       "model_id": "3540a8640ceb4846a34f1858c3e8b354",
       "version_major": 2,
       "version_minor": 0
      },
      "text/plain": [
       "  0%|          | 0/102 [00:00<?, ?it/s]"
      ]
     },
     "metadata": {},
     "output_type": "display_data"
    },
    {
     "name": "stdout",
     "output_type": "stream",
     "text": [
      "Epoch 6: overall accuracy 0.8842644375110379\n"
     ]
    },
    {
     "data": {
      "application/vnd.jupyter.widget-view+json": {
       "model_id": "30bf402710674c2aa7da613dec2a9126",
       "version_major": 2,
       "version_minor": 0
      },
      "text/plain": [
       "  0%|          | 0/102 [00:00<?, ?it/s]"
      ]
     },
     "metadata": {},
     "output_type": "display_data"
    },
    {
     "name": "stdout",
     "output_type": "stream",
     "text": [
      "Epoch 7: overall accuracy 0.8897980808853829\n"
     ]
    },
    {
     "data": {
      "application/vnd.jupyter.widget-view+json": {
       "model_id": "0e60508797a54f19aaae6c82638873ee",
       "version_major": 2,
       "version_minor": 0
      },
      "text/plain": [
       "  0%|          | 0/102 [00:00<?, ?it/s]"
      ]
     },
     "metadata": {},
     "output_type": "display_data"
    },
    {
     "name": "stdout",
     "output_type": "stream",
     "text": [
      "Epoch 8: overall accuracy 0.891505268734915\n"
     ]
    },
    {
     "data": {
      "application/vnd.jupyter.widget-view+json": {
       "model_id": "37f60c3d1b534d7c9c4a7ab2df62ab6e",
       "version_major": 2,
       "version_minor": 0
      },
      "text/plain": [
       "  0%|          | 0/102 [00:00<?, ?it/s]"
      ]
     },
     "metadata": {},
     "output_type": "display_data"
    },
    {
     "name": "stdout",
     "output_type": "stream",
     "text": [
      "Epoch 9: overall accuracy 0.8933890622240537\n",
      "{'LOC': {'f1': 0.6267840874582449,\n",
      "         'number': 1837,\n",
      "         'precision': 0.7087912087912088,\n",
      "         'recall': 0.5617855198693522},\n",
      " 'MISC': {'f1': 0.32848232848232845,\n",
      "          'number': 922,\n",
      "          'precision': 0.45489443378119004,\n",
      "          'recall': 0.25704989154013014},\n",
      " 'ORG': {'f1': 0.4041867954911433,\n",
      "         'number': 1341,\n",
      "         'precision': 0.43919510061242345,\n",
      "         'recall': 0.3743475018642804},\n",
      " 'PER': {'f1': 0.5071796261175834,\n",
      "         'number': 1842,\n",
      "         'precision': 0.5062195781503516,\n",
      "         'recall': 0.50814332247557},\n",
      " 'overall_accuracy': 0.8933890622240537,\n",
      " 'overall_f1': 0.49619649894601775,\n",
      " 'overall_precision': 0.5447776212517609,\n",
      " 'overall_recall': 0.45557051497812184}\n"
     ]
    }
   ],
   "source": [
    "from tqdm.auto import tqdm\n",
    "import torch\n",
    "import pprint\n",
    "\n",
    "progress_bar = tqdm(range(num_training_steps))\n",
    "all_results = []  # List of metrics, one for each epoch.\n",
    "\n",
    "for epoch in range(num_train_epochs):\n",
    "    model_with_transformer.train()\n",
    "    for batch in train_dataloader:\n",
    "        outputs = model_with_transformer(**batch)\n",
    "        loss = loss_fct(\n",
    "            outputs.reshape(-1, len(feature_names)), batch[\"labels\"].flatten()\n",
    "        )\n",
    "        accelerator.backward(loss)\n",
    "\n",
    "        optimizer.step()\n",
    "        lr_scheduler.step()\n",
    "        optimizer.zero_grad()\n",
    "        progress_bar.update(1)\n",
    "\n",
    "    model_with_transformer.eval()\n",
    "\n",
    "    for batch in tqdm(eval_dataloader):\n",
    "        with torch.no_grad():\n",
    "            predictions = model_with_transformer(**batch)\n",
    "\n",
    "        labels = batch[\"labels\"]\n",
    "\n",
    "        predictions = accelerator.pad_across_processes(\n",
    "            predictions, dim=1, pad_index=len(feature_names) - 1\n",
    "        )\n",
    "        labels = accelerator.pad_across_processes(\n",
    "            labels, dim=1, pad_index=len(feature_names) - 1\n",
    "        )\n",
    "\n",
    "        predictions_gathered = accelerator.gather(predictions)\n",
    "        labels_gathered = accelerator.gather(labels)\n",
    "\n",
    "        true_labels, prediction_labels = postprocess(\n",
    "            predictions_gathered, labels_gathered\n",
    "        )\n",
    "        metric.add_batch(predictions=prediction_labels, references=true_labels)\n",
    "\n",
    "    # print(metric)\n",
    "    # print(prediction_labels)\n",
    "    results = metric.compute()\n",
    "    print(f\"Epoch {epoch}: overall accuracy {results['overall_accuracy']}\")\n",
    "    # pprint.pprint(results)\n",
    "    all_results.append(results)\n",
    "\n",
    "pprint.pprint(results)\n",
    "\n",
    "accelerator.wait_for_everyone()\n",
    "unwrapped_model_with_transformer = accelerator.unwrap_model(model_with_transformer)"
   ]
  },
  {
   "cell_type": "code",
   "execution_count": 32,
   "metadata": {},
   "outputs": [
    {
     "data": {
      "image/png": "[encoded data removed]",
      "text/plain": [
       "<Figure size 432x288 with 1 Axes>"
      ]
     },
     "metadata": {
      "needs_background": "light"
     },
     "output_type": "display_data"
    }
   ],
   "source": [
    "import matplotlib.pyplot as plt\n",
    "import numpy as np\n",
    "from pandas import DataFrame as df\n",
    "\n",
    "\n",
    "results_table = df(all_results)\n",
    "for key in [\"overall_accuracy\", \"overall_f1\", \"overall_precision\", \"overall_recall\"]:\n",
    "    plt.plot(results_table[key], label=key)\n",
    "\n",
    "plt.title(f\"{lstm_num_hidden_dimensions}-dimension LSTM Model- Experiment\")\n",
    "plt.legend()\n",
    "plt.show()"
   ]
  },
  {
   "cell_type": "code",
   "execution_count": 33,
   "metadata": {},
   "outputs": [
    {
     "data": {
      "application/vnd.jupyter.widget-view+json": {
       "model_id": "46313ac1ac1d41eb91595b45150bc526",
       "version_major": 2,
       "version_minor": 0
      },
      "text/plain": [
       "  0%|          | 0/102 [00:00<?, ?it/s]"
      ]
     },
     "metadata": {},
     "output_type": "display_data"
    }
   ],
   "source": [
    "example_labels_model_with_transformer = []  # (Ground Truth, Predictions)\n",
    "\n",
    "for batch in tqdm(eval_dataloader):\n",
    "    with torch.no_grad():\n",
    "        predictions = model_with_transformer(**batch)\n",
    "\n",
    "    labels = batch[\"labels\"]\n",
    "\n",
    "    predictions = accelerator.pad_across_processes(\n",
    "        predictions, dim=1, pad_index=len(feature_names) - 1\n",
    "    )\n",
    "    labels = accelerator.pad_across_processes(\n",
    "        labels, dim=1, pad_index=len(feature_names) - 1\n",
    "    )\n",
    "\n",
    "    predictions_gathered = accelerator.gather(predictions)\n",
    "    labels_gathered = accelerator.gather(labels)\n",
    "\n",
    "    true_labels, prediction_labels = postprocess(predictions_gathered, labels_gathered)\n",
    "\n",
    "    example_labels_model_with_transformer.extend(zip(true_labels, prediction_labels))"
   ]
  },
  {
   "cell_type": "markdown",
   "metadata": {},
   "source": [
    "### Data output"
   ]
  },
  {
   "cell_type": "code",
   "execution_count": null,
   "metadata": {},
   "outputs": [],
   "source": [
    "tokenized_sentences = list(map(get_tokenized_sentence, raw_datasets[\"validation\"]))\n",
    "\n",
    "# List of strings, one for each line in the output.\n",
    "output = [\n",
    "    \" \".join(\n",
    "        [\n",
    "            \"token\",\n",
    "            \"ground_truth\",\n",
    "            \"predicted_no_transformer\",\n",
    "            \"predicted_with_transformer\",\n",
    "            \"\\n\",\n",
    "        ]\n",
    "    )\n",
    "]\n",
    "\n",
    "for (\n",
    "    sentence,\n",
    "    (ground_truth_labels, predicted_labels_model_no_transformer),\n",
    "    (_, predicted_labels_model_with_transformer),\n",
    ") in zip(\n",
    "    tokenized_sentences,\n",
    "    example_labels_model_no_transformer,\n",
    "    example_labels_model_with_transformer,\n",
    "):\n",
    "    for (\n",
    "        token,\n",
    "        ground_truth_label,\n",
    "        predicted_label_model_no_transformer,\n",
    "        predicted_label_model_with_transformer,\n",
    "    ) in zip(\n",
    "        sentence[1:-1],\n",
    "        ground_truth_labels,\n",
    "        predicted_labels_model_no_transformer,\n",
    "        predicted_labels_model_with_transformer,\n",
    "    ):\n",
    "        line = f\"{token} {ground_truth_label} {predicted_label_model_no_transformer} {predicted_label_model_with_transformer}\\n\"\n",
    "        output.append(line)\n",
    "\n",
    "    output.append(\"\\n\")\n",
    "\n",
    "with open(f\"eval-bert-base-cased-output-lstm-{lstm_num_hidden_dimensions}.csv\", \"w\") as output_file:\n",
    "    output_file.writelines(output)"
   ]
  }
 ],
 "metadata": {
  "interpreter": {
   "hash": "d4d1e4263499bec80672ea0156c357c1ee493ec2b1c70f0acce89fc37c4a6abe"
  },
  "kernelspec": {
   "display_name": "Python 3.7.10 64-bit ('base': conda)",
   "language": "python",
   "name": "python3"
  },
  "language_info": {
   "codemirror_mode": {
    "name": "ipython",
    "version": 3
   },
   "file_extension": ".py",
   "mimetype": "text/x-python",
   "name": "python",
   "nbconvert_exporter": "python",
   "pygments_lexer": "ipython3",
   "version": "3.7.10"
  },
  "orig_nbformat": 4
 },
 "nbformat": 4,
 "nbformat_minor": 2
}
